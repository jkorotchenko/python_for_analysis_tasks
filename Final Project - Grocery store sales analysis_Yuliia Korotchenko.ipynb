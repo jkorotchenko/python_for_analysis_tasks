{
 "cells": [
  {
   "cell_type": "markdown",
   "id": "5370f21d",
   "metadata": {
    "ExecuteTime": {
     "end_time": "2022-12-18T08:04:15.713512Z",
     "start_time": "2022-12-18T08:04:15.663451Z"
    }
   },
   "source": [
    "# Вітаю на фінальному проєкті!\n",
    "Протягом курсу ми навчились завантажувати дані в Python, трансформувати їх, чистити, агрегувати, знаходити з допомогою даних відповіді на наші питання. \n",
    "Задача фінального проєкту - продемонструвати той рівень роботи з даними, на якому ви є зараз. \n",
    "\n",
    "Цей ноутбук буде присвячений аналізу даних з файла `Grocery DataBase.xlsx`, який є в папці `Дані` на Диску. Так, це Excel файл, але ми можемо дуже просто завантажувати дані з нього у Python. Покажу пару команд для роботи з Excel файлом."
   ]
  },
  {
   "cell_type": "markdown",
   "id": "ab4e745e",
   "metadata": {},
   "source": [
    "Для початку встановимо бібліотеку, яка потрібна для роботи з Excel файлами з pandas. Можна встановити тут, або в терміналі, але якщо Ви встановлюєте в терміналі, то після того треба перезапустити ядро (Kernel) ноутбуку, аби бібліотека точно підтягнулась. Іноді підтягується і без того, але це на випадок, що робити, якщо компілятор каже, що її не бачить."
   ]
  },
  {
   "cell_type": "code",
   "execution_count": 1,
   "id": "8260300e",
   "metadata": {
    "ExecuteTime": {
     "end_time": "2023-04-04T19:41:49.606684Z",
     "start_time": "2023-04-04T19:41:48.116184Z"
    }
   },
   "outputs": [
    {
     "name": "stdout",
     "output_type": "stream",
     "text": [
      "Requirement already satisfied: openpyxl in c:\\users\\user\\anaconda3\\envs\\py375\\lib\\site-packages (3.1.2)\n",
      "Requirement already satisfied: et-xmlfile in c:\\users\\user\\anaconda3\\envs\\py375\\lib\\site-packages (from openpyxl) (1.1.0)\n"
     ]
    }
   ],
   "source": [
    "!pip install openpyxl"
   ]
  },
  {
   "cell_type": "code",
   "execution_count": 1,
   "id": "9f8741e0",
   "metadata": {
    "ExecuteTime": {
     "end_time": "2023-04-08T21:47:59.908912Z",
     "start_time": "2023-04-08T21:47:59.403735Z"
    }
   },
   "outputs": [],
   "source": [
    "import pandas as pd"
   ]
  },
  {
   "cell_type": "markdown",
   "id": "ee6256e0",
   "metadata": {},
   "source": [
    "Ось так можемо переглянути, які є листки в Excel файлі:"
   ]
  },
  {
   "cell_type": "code",
   "execution_count": 2,
   "id": "2b13dd59",
   "metadata": {
    "ExecuteTime": {
     "end_time": "2023-04-08T21:48:03.286611Z",
     "start_time": "2023-04-08T21:48:03.274644Z"
    }
   },
   "outputs": [],
   "source": [
    "# замініть на шлях до файлу на своєму комп`ютері\n",
    "path_to_file = r'C:\\Users\\User\\Desktop\\Personal\\Python\\Home work\\data\\Grocery Database.xlsx'"
   ]
  },
  {
   "cell_type": "code",
   "execution_count": 3,
   "id": "54c01751",
   "metadata": {
    "ExecuteTime": {
     "end_time": "2023-04-08T21:48:13.513532Z",
     "start_time": "2023-04-08T21:48:04.316646Z"
    },
    "scrolled": true
   },
   "outputs": [
    {
     "data": {
      "text/plain": [
       "['Grosto DB', 'Sheet2', 'Fact Summary']"
      ]
     },
     "execution_count": 3,
     "metadata": {},
     "output_type": "execute_result"
    }
   ],
   "source": [
    "xl = pd.ExcelFile(path_to_file)\n",
    "xl.sheet_names"
   ]
  },
  {
   "cell_type": "markdown",
   "id": "1ea6884d",
   "metadata": {},
   "source": [
    "А так можемо зчитати конкретний листок:"
   ]
  },
  {
   "cell_type": "code",
   "execution_count": 4,
   "id": "1341eb0b",
   "metadata": {
    "ExecuteTime": {
     "end_time": "2023-04-08T21:48:18.109796Z",
     "start_time": "2023-04-08T21:48:18.078338Z"
    }
   },
   "outputs": [
    {
     "data": {
      "text/html": [
       "<div>\n",
       "<style scoped>\n",
       "    .dataframe tbody tr th:only-of-type {\n",
       "        vertical-align: middle;\n",
       "    }\n",
       "\n",
       "    .dataframe tbody tr th {\n",
       "        vertical-align: top;\n",
       "    }\n",
       "\n",
       "    .dataframe thead th {\n",
       "        text-align: right;\n",
       "    }\n",
       "</style>\n",
       "<table border=\"1\" class=\"dataframe\">\n",
       "  <thead>\n",
       "    <tr style=\"text-align: right;\">\n",
       "      <th></th>\n",
       "      <th>S.No.</th>\n",
       "      <th>Column Name</th>\n",
       "      <th>Description of the Column names</th>\n",
       "    </tr>\n",
       "  </thead>\n",
       "  <tbody>\n",
       "    <tr>\n",
       "      <th>0</th>\n",
       "      <td>1.0</td>\n",
       "      <td>Receipt Number</td>\n",
       "      <td>Transaction Number</td>\n",
       "    </tr>\n",
       "    <tr>\n",
       "      <th>1</th>\n",
       "      <td>2.0</td>\n",
       "      <td>Date</td>\n",
       "      <td>Date of Transaction</td>\n",
       "    </tr>\n",
       "    <tr>\n",
       "      <th>2</th>\n",
       "      <td>3.0</td>\n",
       "      <td>Year</td>\n",
       "      <td>Year of Transaction</td>\n",
       "    </tr>\n",
       "    <tr>\n",
       "      <th>3</th>\n",
       "      <td>4.0</td>\n",
       "      <td>Month</td>\n",
       "      <td>Month of Transaction</td>\n",
       "    </tr>\n",
       "    <tr>\n",
       "      <th>4</th>\n",
       "      <td>5.0</td>\n",
       "      <td>Time</td>\n",
       "      <td>Time of the transaction</td>\n",
       "    </tr>\n",
       "    <tr>\n",
       "      <th>5</th>\n",
       "      <td>6.0</td>\n",
       "      <td>Mobile Number</td>\n",
       "      <td>Monbile number of the customer</td>\n",
       "    </tr>\n",
       "    <tr>\n",
       "      <th>6</th>\n",
       "      <td>7.0</td>\n",
       "      <td>Membership ID</td>\n",
       "      <td>Unique Membership ID of the Customer</td>\n",
       "    </tr>\n",
       "    <tr>\n",
       "      <th>7</th>\n",
       "      <td>8.0</td>\n",
       "      <td>Loyalty Card Points</td>\n",
       "      <td>Loyalty Points earned by customer (10 Points/1...</td>\n",
       "    </tr>\n",
       "    <tr>\n",
       "      <th>8</th>\n",
       "      <td>9.0</td>\n",
       "      <td>Age</td>\n",
       "      <td>Age of the Customer in the Company Database</td>\n",
       "    </tr>\n",
       "    <tr>\n",
       "      <th>9</th>\n",
       "      <td>10.0</td>\n",
       "      <td>Gender</td>\n",
       "      <td>Gender of the customer</td>\n",
       "    </tr>\n",
       "    <tr>\n",
       "      <th>10</th>\n",
       "      <td>11.0</td>\n",
       "      <td>City</td>\n",
       "      <td>City Name of store</td>\n",
       "    </tr>\n",
       "    <tr>\n",
       "      <th>11</th>\n",
       "      <td>12.0</td>\n",
       "      <td>Country</td>\n",
       "      <td>Country Name of store</td>\n",
       "    </tr>\n",
       "    <tr>\n",
       "      <th>12</th>\n",
       "      <td>13.0</td>\n",
       "      <td>Category</td>\n",
       "      <td>Category of Item bought by customer</td>\n",
       "    </tr>\n",
       "    <tr>\n",
       "      <th>13</th>\n",
       "      <td>14.0</td>\n",
       "      <td>Sub_Category</td>\n",
       "      <td>Sub-Category of Item bought by customer</td>\n",
       "    </tr>\n",
       "    <tr>\n",
       "      <th>14</th>\n",
       "      <td>15.0</td>\n",
       "      <td>Items</td>\n",
       "      <td>Name if the item  bought by customer</td>\n",
       "    </tr>\n",
       "    <tr>\n",
       "      <th>15</th>\n",
       "      <td>16.0</td>\n",
       "      <td>Brand</td>\n",
       "      <td>Brand of the Item bought</td>\n",
       "    </tr>\n",
       "    <tr>\n",
       "      <th>16</th>\n",
       "      <td>17.0</td>\n",
       "      <td>Description</td>\n",
       "      <td>Description of the Item (weight/volume/pack si...</td>\n",
       "    </tr>\n",
       "    <tr>\n",
       "      <th>17</th>\n",
       "      <td>18.0</td>\n",
       "      <td>Price</td>\n",
       "      <td>Price per unit of the Item</td>\n",
       "    </tr>\n",
       "    <tr>\n",
       "      <th>18</th>\n",
       "      <td>19.0</td>\n",
       "      <td>QTY</td>\n",
       "      <td>Quantity bought by the cistomer</td>\n",
       "    </tr>\n",
       "    <tr>\n",
       "      <th>19</th>\n",
       "      <td>20.0</td>\n",
       "      <td>DISC</td>\n",
       "      <td>Discount offered by store</td>\n",
       "    </tr>\n",
       "    <tr>\n",
       "      <th>20</th>\n",
       "      <td>21.0</td>\n",
       "      <td>Net Bill Amount</td>\n",
       "      <td>Amount exclusive of tax payable to customer</td>\n",
       "    </tr>\n",
       "    <tr>\n",
       "      <th>21</th>\n",
       "      <td>22.0</td>\n",
       "      <td>GST</td>\n",
       "      <td>Tax Payable</td>\n",
       "    </tr>\n",
       "    <tr>\n",
       "      <th>22</th>\n",
       "      <td>23.0</td>\n",
       "      <td>Gross Bill Amount</td>\n",
       "      <td>Gross Bill to be paid by customer inclusive of...</td>\n",
       "    </tr>\n",
       "    <tr>\n",
       "      <th>23</th>\n",
       "      <td>24.0</td>\n",
       "      <td>Payment Mode</td>\n",
       "      <td>Mode of payment opted by customer</td>\n",
       "    </tr>\n",
       "    <tr>\n",
       "      <th>24</th>\n",
       "      <td>25.0</td>\n",
       "      <td>Bank Name</td>\n",
       "      <td>Name of the Bank</td>\n",
       "    </tr>\n",
       "    <tr>\n",
       "      <th>25</th>\n",
       "      <td>26.0</td>\n",
       "      <td>% Profit Margin</td>\n",
       "      <td>Percentage profit margin of store</td>\n",
       "    </tr>\n",
       "    <tr>\n",
       "      <th>26</th>\n",
       "      <td>27.0</td>\n",
       "      <td>% Operating Cost</td>\n",
       "      <td>Percentage operating cost of store</td>\n",
       "    </tr>\n",
       "    <tr>\n",
       "      <th>27</th>\n",
       "      <td>28.0</td>\n",
       "      <td>% Product Cost</td>\n",
       "      <td>Percentage product cost to store</td>\n",
       "    </tr>\n",
       "    <tr>\n",
       "      <th>28</th>\n",
       "      <td>29.0</td>\n",
       "      <td>Profit Margin</td>\n",
       "      <td>Profit Margin earned by store</td>\n",
       "    </tr>\n",
       "    <tr>\n",
       "      <th>29</th>\n",
       "      <td>30.0</td>\n",
       "      <td>Operating Cost</td>\n",
       "      <td>Operating cost beared by the store</td>\n",
       "    </tr>\n",
       "    <tr>\n",
       "      <th>30</th>\n",
       "      <td>31.0</td>\n",
       "      <td>Product Cost</td>\n",
       "      <td>Product Cost for the store</td>\n",
       "    </tr>\n",
       "  </tbody>\n",
       "</table>\n",
       "</div>"
      ],
      "text/plain": [
       "    S.No.          Column Name  \\\n",
       "0     1.0       Receipt Number   \n",
       "1     2.0                 Date   \n",
       "2     3.0                 Year   \n",
       "3     4.0                Month   \n",
       "4     5.0                 Time   \n",
       "5     6.0        Mobile Number   \n",
       "6     7.0        Membership ID   \n",
       "7     8.0  Loyalty Card Points   \n",
       "8     9.0                  Age   \n",
       "9    10.0               Gender   \n",
       "10   11.0                 City   \n",
       "11   12.0              Country   \n",
       "12   13.0             Category   \n",
       "13   14.0         Sub_Category   \n",
       "14   15.0                Items   \n",
       "15   16.0               Brand    \n",
       "16   17.0         Description    \n",
       "17   18.0                Price   \n",
       "18   19.0                  QTY   \n",
       "19   20.0                 DISC   \n",
       "20   21.0      Net Bill Amount   \n",
       "21   22.0                  GST   \n",
       "22   23.0    Gross Bill Amount   \n",
       "23   24.0         Payment Mode   \n",
       "24   25.0            Bank Name   \n",
       "25   26.0      % Profit Margin   \n",
       "26   27.0     % Operating Cost   \n",
       "27   28.0       % Product Cost   \n",
       "28   29.0        Profit Margin   \n",
       "29   30.0       Operating Cost   \n",
       "30   31.0         Product Cost   \n",
       "\n",
       "                      Description of the Column names  \n",
       "0                                  Transaction Number  \n",
       "1                                 Date of Transaction  \n",
       "2                                 Year of Transaction  \n",
       "3                                Month of Transaction  \n",
       "4                             Time of the transaction  \n",
       "5                      Monbile number of the customer  \n",
       "6                Unique Membership ID of the Customer  \n",
       "7   Loyalty Points earned by customer (10 Points/1...  \n",
       "8         Age of the Customer in the Company Database  \n",
       "9                              Gender of the customer  \n",
       "10                                 City Name of store  \n",
       "11                              Country Name of store  \n",
       "12                Category of Item bought by customer  \n",
       "13            Sub-Category of Item bought by customer  \n",
       "14               Name if the item  bought by customer  \n",
       "15                           Brand of the Item bought  \n",
       "16  Description of the Item (weight/volume/pack si...  \n",
       "17                         Price per unit of the Item  \n",
       "18                    Quantity bought by the cistomer  \n",
       "19                          Discount offered by store  \n",
       "20        Amount exclusive of tax payable to customer  \n",
       "21                                        Tax Payable  \n",
       "22  Gross Bill to be paid by customer inclusive of...  \n",
       "23                  Mode of payment opted by customer  \n",
       "24                                   Name of the Bank  \n",
       "25                  Percentage profit margin of store  \n",
       "26                 Percentage operating cost of store  \n",
       "27                   Percentage product cost to store  \n",
       "28                      Profit Margin earned by store  \n",
       "29                 Operating cost beared by the store  \n",
       "30                         Product Cost for the store  "
      ]
     },
     "execution_count": 4,
     "metadata": {},
     "output_type": "execute_result"
    }
   ],
   "source": [
    "xl.parse('Fact Summary')"
   ]
  },
  {
   "cell_type": "markdown",
   "id": "44fe8a1e",
   "metadata": {},
   "source": [
    "Читати дані можна і з Pandas, але тут немає можливості переглянути наявні листки, а також довше відбувається читання даних."
   ]
  },
  {
   "cell_type": "code",
   "execution_count": 5,
   "id": "2fb8f4ad",
   "metadata": {
    "ExecuteTime": {
     "end_time": "2023-04-08T21:48:45.943623Z",
     "start_time": "2023-04-08T21:48:19.741289Z"
    }
   },
   "outputs": [],
   "source": [
    "df = pd.read_excel(path_to_file)"
   ]
  },
  {
   "cell_type": "markdown",
   "id": "93fbe209",
   "metadata": {},
   "source": [
    "В файлі ви знайдете самі дані та опис колонок.   \n",
    "\n",
    "**Задача**: Уявіть, що Вам дали цей набір даних з питанням \"Що корисного ми можемо з них взяти для розвитку нашого бізнесу?\". То Вам необхідно розказати бізнесу історію про ці дані у форматі\n",
    "1. питання, яке Вас як робітника цього бізнесу, який дуже вболіває за його успіх, цікавить щодо цих даних\n",
    "2. код для відповіді на це питання\n",
    "3. висновки, які я можу зробити з огляду на результат виконання коду: які рішення ми можемо прийняти щодо подальших кроків в аналізі або які рекомендації Ви б дали бізнесу виходячи з результатів.\n",
    "\n",
    "**Необхідно** поставити до даних _мінімум_ 10 бізнес-питань, при цьому зробивши   \n",
    "- початковий аналіз даних: їх розмір, структура, наявність пропущених значень та що з ними зробити, зміна типів даних там, де це доречно зробити (наприклад, якщо колонка завантажилась як тип string, а з опису видно, що там має бути float) - ця частина не входить у бізнес-питання, але є необхідною при аналізі даних.  \n",
    "- _мінімум_ 1 зведену таблицю або її аналог\n",
    "- _мінімум_ 5 візуалізацій, 3 з яких мають різний тип (наприклад, scatter plot, line plot, pair plot)\n",
    "\n",
    "В даному мінімум-наборі немає вимоги на використання SQL та тестування статистичних гіпотез. Але якщо Вам хочеться потренуватись, то Ви можете це зробити скориставшись pandasql, а також перевірити, чи є відмінність між двома групами у якомусь показнику з допомогою тестування статистичних гіпотез. Останнє найбільш доречно, якщо, наприклад, ми беремо чоловіків і жінок, бачимо що у них доволі схожі середні чеки, але наче відрізняються. Аби зрозуміти, чи різниця статистично значущою, можна це перевірити з допомогою тестування стат. гіпотез.\n",
    "\n",
    "Питанням може бути як \"Яка є кількість унікальних чеків в цьому наборі даних?\" так і щось значно складніше. Якщо у Вас складне питання, і аби відповісти на нього Ви мали відповісти на 3 менших питання (зробити якісь трансформації над даними, подивитись щось), то це рахується як 3 питання з 10 необхідних у завданні. Звісно ж Ви можете зробити більше за встановлений мінімум - все буде перевірено :)\n",
    "\n",
    "Тут є великий простір для Вашої фантазії. **Тому рекомендація:** виділіть на це завданні певну кількість годин (наприклад, середнє значення по тому, скільки у Вас займало виконання домашніх завдань в курсі, але я рекомендую не менше 2х годин роботи)\n",
    "і поставте собі за ціль всю роботу вмістити в цю кількість годин.\n",
    "Це дозволить Вам управляти своїм часом, пріоритизувати питання, які ставите до даних. І так часто є в роботі: коли ми не знаємо, що ми шукаємо, ми ставимо обмеження по часу (задача типу spike) і робимо все, що встигнемо, за цей час.\n",
    "\n",
    "По закінченню - завантажуємо ноутбук на git і додаємо посилання в здачу роботи в Eduflow. \n",
    "До речі, з часом, вам може захотітись доповнити цей ноутбук, коли арсенал ваших навичок по роботі з даними розшириться. І це буде чудова ідея!\n",
    "\n",
    "**Успіхів!**"
   ]
  },
  {
   "cell_type": "markdown",
   "id": "5d0cf17b",
   "metadata": {},
   "source": [
    "**0. Аналіз даних перед початком роботи**"
   ]
  },
  {
   "cell_type": "markdown",
   "id": "dab12304",
   "metadata": {
    "ExecuteTime": {
     "end_time": "2023-04-06T17:15:56.615130Z",
     "start_time": "2023-04-06T17:15:56.602138Z"
    }
   },
   "source": [
    "- огляд розміру даних"
   ]
  },
  {
   "cell_type": "code",
   "execution_count": 6,
   "id": "4af28e54",
   "metadata": {
    "ExecuteTime": {
     "end_time": "2023-04-08T21:49:00.459490Z",
     "start_time": "2023-04-08T21:49:00.440542Z"
    }
   },
   "outputs": [
    {
     "name": "stdout",
     "output_type": "stream",
     "text": [
      "Набір містить 50447 та 32 колонок.\n"
     ]
    }
   ],
   "source": [
    "df.shape\n",
    "print(f'Набір містить {df.shape[0]} та {df.shape[1]} колонок.')"
   ]
  },
  {
   "cell_type": "markdown",
   "id": "8723dd06",
   "metadata": {
    "ExecuteTime": {
     "end_time": "2023-04-06T17:19:03.766587Z",
     "start_time": "2023-04-06T17:19:03.751655Z"
    }
   },
   "source": [
    "- огляд набору даних"
   ]
  },
  {
   "cell_type": "code",
   "execution_count": 7,
   "id": "e476b68a",
   "metadata": {
    "ExecuteTime": {
     "end_time": "2023-04-08T21:49:03.307472Z",
     "start_time": "2023-04-08T21:49:03.220723Z"
    },
    "scrolled": false
   },
   "outputs": [
    {
     "data": {
      "text/html": [
       "<div>\n",
       "<style scoped>\n",
       "    .dataframe tbody tr th:only-of-type {\n",
       "        vertical-align: middle;\n",
       "    }\n",
       "\n",
       "    .dataframe tbody tr th {\n",
       "        vertical-align: top;\n",
       "    }\n",
       "\n",
       "    .dataframe thead th {\n",
       "        text-align: right;\n",
       "    }\n",
       "</style>\n",
       "<table border=\"1\" class=\"dataframe\">\n",
       "  <thead>\n",
       "    <tr style=\"text-align: right;\">\n",
       "      <th></th>\n",
       "      <th>Receipt Number</th>\n",
       "      <th>Date</th>\n",
       "      <th>Year</th>\n",
       "      <th>Month</th>\n",
       "      <th>Time</th>\n",
       "      <th>Mobile Number</th>\n",
       "      <th>Membership ID</th>\n",
       "      <th>Loyalty Card Points</th>\n",
       "      <th>Age</th>\n",
       "      <th>Gender</th>\n",
       "      <th>...</th>\n",
       "      <th>GST</th>\n",
       "      <th>Gross Bill Amount</th>\n",
       "      <th>Payment Mode</th>\n",
       "      <th>Bank Name</th>\n",
       "      <th>% Profit Margin</th>\n",
       "      <th>% Operating Cost</th>\n",
       "      <th>% Product Cost</th>\n",
       "      <th>Profit Margin</th>\n",
       "      <th>Operating Cost</th>\n",
       "      <th>Product Cost</th>\n",
       "    </tr>\n",
       "  </thead>\n",
       "  <tbody>\n",
       "    <tr>\n",
       "      <th>0</th>\n",
       "      <td>GIJ00001</td>\n",
       "      <td>2016-01-02</td>\n",
       "      <td>2016.0</td>\n",
       "      <td>1.0</td>\n",
       "      <td>10:08:03.260000</td>\n",
       "      <td>9.793549e+09</td>\n",
       "      <td>MIDID0001</td>\n",
       "      <td>1.0</td>\n",
       "      <td>36.0</td>\n",
       "      <td>Male</td>\n",
       "      <td>...</td>\n",
       "      <td>0.10</td>\n",
       "      <td>13.324080</td>\n",
       "      <td>Card</td>\n",
       "      <td>Enterprise Bank</td>\n",
       "      <td>0.150</td>\n",
       "      <td>0.15</td>\n",
       "      <td>0.700</td>\n",
       "      <td>1.85400</td>\n",
       "      <td>1.8540</td>\n",
       "      <td>8.65200</td>\n",
       "    </tr>\n",
       "    <tr>\n",
       "      <th>1</th>\n",
       "      <td>GIJ00002</td>\n",
       "      <td>2016-01-02</td>\n",
       "      <td>2016.0</td>\n",
       "      <td>1.0</td>\n",
       "      <td>15:46:50.832000</td>\n",
       "      <td>9.938441e+09</td>\n",
       "      <td>MIDID0002</td>\n",
       "      <td>2.0</td>\n",
       "      <td>54.0</td>\n",
       "      <td>Male</td>\n",
       "      <td>...</td>\n",
       "      <td>0.10</td>\n",
       "      <td>25.264800</td>\n",
       "      <td>Card</td>\n",
       "      <td>Philippine Veterans Bank</td>\n",
       "      <td>0.118</td>\n",
       "      <td>0.15</td>\n",
       "      <td>0.732</td>\n",
       "      <td>2.73760</td>\n",
       "      <td>3.4800</td>\n",
       "      <td>16.98240</td>\n",
       "    </tr>\n",
       "    <tr>\n",
       "      <th>2</th>\n",
       "      <td>GIJ00003</td>\n",
       "      <td>2016-01-02</td>\n",
       "      <td>2016.0</td>\n",
       "      <td>1.0</td>\n",
       "      <td>11:28:52.166000</td>\n",
       "      <td>9.976743e+09</td>\n",
       "      <td>MIDID0003</td>\n",
       "      <td>1.0</td>\n",
       "      <td>16.0</td>\n",
       "      <td>Female</td>\n",
       "      <td>...</td>\n",
       "      <td>0.10</td>\n",
       "      <td>42.187860</td>\n",
       "      <td>Cash</td>\n",
       "      <td>BDO Unibank</td>\n",
       "      <td>0.147</td>\n",
       "      <td>0.15</td>\n",
       "      <td>0.703</td>\n",
       "      <td>1.95657</td>\n",
       "      <td>1.9965</td>\n",
       "      <td>9.35693</td>\n",
       "    </tr>\n",
       "    <tr>\n",
       "      <th>3</th>\n",
       "      <td>GIJ00003</td>\n",
       "      <td>2016-01-02</td>\n",
       "      <td>2016.0</td>\n",
       "      <td>1.0</td>\n",
       "      <td>11:28:52.166000</td>\n",
       "      <td>9.976743e+09</td>\n",
       "      <td>MIDID0003</td>\n",
       "      <td>1.0</td>\n",
       "      <td>16.0</td>\n",
       "      <td>Female</td>\n",
       "      <td>...</td>\n",
       "      <td>0.10</td>\n",
       "      <td>42.187860</td>\n",
       "      <td>Cash</td>\n",
       "      <td>BDO Unibank</td>\n",
       "      <td>0.095</td>\n",
       "      <td>0.15</td>\n",
       "      <td>0.755</td>\n",
       "      <td>0.33440</td>\n",
       "      <td>0.5280</td>\n",
       "      <td>2.65760</td>\n",
       "    </tr>\n",
       "    <tr>\n",
       "      <th>4</th>\n",
       "      <td>GIJ00003</td>\n",
       "      <td>2016-01-02</td>\n",
       "      <td>2016.0</td>\n",
       "      <td>1.0</td>\n",
       "      <td>11:28:52.166000</td>\n",
       "      <td>9.976743e+09</td>\n",
       "      <td>MIDID0003</td>\n",
       "      <td>2.0</td>\n",
       "      <td>16.0</td>\n",
       "      <td>Female</td>\n",
       "      <td>...</td>\n",
       "      <td>0.10</td>\n",
       "      <td>42.187860</td>\n",
       "      <td>Cash</td>\n",
       "      <td>BDO Unibank</td>\n",
       "      <td>0.120</td>\n",
       "      <td>0.15</td>\n",
       "      <td>0.730</td>\n",
       "      <td>0.52920</td>\n",
       "      <td>0.6615</td>\n",
       "      <td>3.21930</td>\n",
       "    </tr>\n",
       "    <tr>\n",
       "      <th>...</th>\n",
       "      <td>...</td>\n",
       "      <td>...</td>\n",
       "      <td>...</td>\n",
       "      <td>...</td>\n",
       "      <td>...</td>\n",
       "      <td>...</td>\n",
       "      <td>...</td>\n",
       "      <td>...</td>\n",
       "      <td>...</td>\n",
       "      <td>...</td>\n",
       "      <td>...</td>\n",
       "      <td>...</td>\n",
       "      <td>...</td>\n",
       "      <td>...</td>\n",
       "      <td>...</td>\n",
       "      <td>...</td>\n",
       "      <td>...</td>\n",
       "      <td>...</td>\n",
       "      <td>...</td>\n",
       "      <td>...</td>\n",
       "      <td>...</td>\n",
       "    </tr>\n",
       "    <tr>\n",
       "      <th>50442</th>\n",
       "      <td>GSW01533</td>\n",
       "      <td>2019-12-28</td>\n",
       "      <td>2019.0</td>\n",
       "      <td>12.0</td>\n",
       "      <td>20:59:27.302000</td>\n",
       "      <td>9.893318e+09</td>\n",
       "      <td>MIDSG0630</td>\n",
       "      <td>21.0</td>\n",
       "      <td>28.0</td>\n",
       "      <td>Female</td>\n",
       "      <td>...</td>\n",
       "      <td>0.07</td>\n",
       "      <td>79.358048</td>\n",
       "      <td>Card</td>\n",
       "      <td>Philippine National bank</td>\n",
       "      <td>0.141</td>\n",
       "      <td>0.15</td>\n",
       "      <td>0.709</td>\n",
       "      <td>0.87420</td>\n",
       "      <td>0.9300</td>\n",
       "      <td>4.39580</td>\n",
       "    </tr>\n",
       "    <tr>\n",
       "      <th>50443</th>\n",
       "      <td>GSW01534</td>\n",
       "      <td>2019-12-29</td>\n",
       "      <td>2019.0</td>\n",
       "      <td>12.0</td>\n",
       "      <td>13:14:45.030000</td>\n",
       "      <td>9.809302e+09</td>\n",
       "      <td>MIDSG0293</td>\n",
       "      <td>41.0</td>\n",
       "      <td>28.0</td>\n",
       "      <td>Female</td>\n",
       "      <td>...</td>\n",
       "      <td>0.07</td>\n",
       "      <td>11.292352</td>\n",
       "      <td>Wallet</td>\n",
       "      <td>Philippine National bank</td>\n",
       "      <td>0.068</td>\n",
       "      <td>0.15</td>\n",
       "      <td>0.782</td>\n",
       "      <td>0.73984</td>\n",
       "      <td>1.6320</td>\n",
       "      <td>8.50816</td>\n",
       "    </tr>\n",
       "    <tr>\n",
       "      <th>50444</th>\n",
       "      <td>GSW01535</td>\n",
       "      <td>2019-12-30</td>\n",
       "      <td>2019.0</td>\n",
       "      <td>12.0</td>\n",
       "      <td>10:01:32.657000</td>\n",
       "      <td>9.840124e+09</td>\n",
       "      <td>MIDSG0150</td>\n",
       "      <td>41.0</td>\n",
       "      <td>62.0</td>\n",
       "      <td>Female</td>\n",
       "      <td>...</td>\n",
       "      <td>0.07</td>\n",
       "      <td>14.999688</td>\n",
       "      <td>Card</td>\n",
       "      <td>BDO Unibank</td>\n",
       "      <td>0.109</td>\n",
       "      <td>0.15</td>\n",
       "      <td>0.741</td>\n",
       "      <td>0.43273</td>\n",
       "      <td>0.5955</td>\n",
       "      <td>2.94177</td>\n",
       "    </tr>\n",
       "    <tr>\n",
       "      <th>50445</th>\n",
       "      <td>GSW01535</td>\n",
       "      <td>2019-12-30</td>\n",
       "      <td>2019.0</td>\n",
       "      <td>12.0</td>\n",
       "      <td>10:01:32.657000</td>\n",
       "      <td>9.840124e+09</td>\n",
       "      <td>MIDSG0150</td>\n",
       "      <td>41.0</td>\n",
       "      <td>62.0</td>\n",
       "      <td>Female</td>\n",
       "      <td>...</td>\n",
       "      <td>0.07</td>\n",
       "      <td>14.999688</td>\n",
       "      <td>Card</td>\n",
       "      <td>BDO Unibank</td>\n",
       "      <td>0.148</td>\n",
       "      <td>0.15</td>\n",
       "      <td>0.702</td>\n",
       "      <td>0.60680</td>\n",
       "      <td>0.6150</td>\n",
       "      <td>2.87820</td>\n",
       "    </tr>\n",
       "    <tr>\n",
       "      <th>50446</th>\n",
       "      <td>GSW01535</td>\n",
       "      <td>2019-12-30</td>\n",
       "      <td>2019.0</td>\n",
       "      <td>12.0</td>\n",
       "      <td>10:01:32.657000</td>\n",
       "      <td>9.840124e+09</td>\n",
       "      <td>MIDSG0150</td>\n",
       "      <td>42.0</td>\n",
       "      <td>62.0</td>\n",
       "      <td>Female</td>\n",
       "      <td>...</td>\n",
       "      <td>0.07</td>\n",
       "      <td>14.999688</td>\n",
       "      <td>Card</td>\n",
       "      <td>BDO Unibank</td>\n",
       "      <td>0.107</td>\n",
       "      <td>0.15</td>\n",
       "      <td>0.743</td>\n",
       "      <td>0.65163</td>\n",
       "      <td>0.9135</td>\n",
       "      <td>4.52487</td>\n",
       "    </tr>\n",
       "  </tbody>\n",
       "</table>\n",
       "<p>50447 rows × 32 columns</p>\n",
       "</div>"
      ],
      "text/plain": [
       "      Receipt Number       Date    Year  Month             Time  \\\n",
       "0           GIJ00001 2016-01-02  2016.0    1.0  10:08:03.260000   \n",
       "1           GIJ00002 2016-01-02  2016.0    1.0  15:46:50.832000   \n",
       "2           GIJ00003 2016-01-02  2016.0    1.0  11:28:52.166000   \n",
       "3           GIJ00003 2016-01-02  2016.0    1.0  11:28:52.166000   \n",
       "4           GIJ00003 2016-01-02  2016.0    1.0  11:28:52.166000   \n",
       "...              ...        ...     ...    ...              ...   \n",
       "50442       GSW01533 2019-12-28  2019.0   12.0  20:59:27.302000   \n",
       "50443       GSW01534 2019-12-29  2019.0   12.0  13:14:45.030000   \n",
       "50444       GSW01535 2019-12-30  2019.0   12.0  10:01:32.657000   \n",
       "50445       GSW01535 2019-12-30  2019.0   12.0  10:01:32.657000   \n",
       "50446       GSW01535 2019-12-30  2019.0   12.0  10:01:32.657000   \n",
       "\n",
       "       Mobile Number Membership ID  Loyalty Card Points   Age  Gender  ...  \\\n",
       "0       9.793549e+09     MIDID0001                  1.0  36.0    Male  ...   \n",
       "1       9.938441e+09     MIDID0002                  2.0  54.0    Male  ...   \n",
       "2       9.976743e+09     MIDID0003                  1.0  16.0  Female  ...   \n",
       "3       9.976743e+09     MIDID0003                  1.0  16.0  Female  ...   \n",
       "4       9.976743e+09     MIDID0003                  2.0  16.0  Female  ...   \n",
       "...              ...           ...                  ...   ...     ...  ...   \n",
       "50442   9.893318e+09     MIDSG0630                 21.0  28.0  Female  ...   \n",
       "50443   9.809302e+09     MIDSG0293                 41.0  28.0  Female  ...   \n",
       "50444   9.840124e+09     MIDSG0150                 41.0  62.0  Female  ...   \n",
       "50445   9.840124e+09     MIDSG0150                 41.0  62.0  Female  ...   \n",
       "50446   9.840124e+09     MIDSG0150                 42.0  62.0  Female  ...   \n",
       "\n",
       "        GST Gross Bill Amount Payment Mode                 Bank Name  \\\n",
       "0      0.10         13.324080         Card           Enterprise Bank   \n",
       "1      0.10         25.264800         Card  Philippine Veterans Bank   \n",
       "2      0.10         42.187860         Cash               BDO Unibank   \n",
       "3      0.10         42.187860         Cash               BDO Unibank   \n",
       "4      0.10         42.187860         Cash               BDO Unibank   \n",
       "...     ...               ...          ...                       ...   \n",
       "50442  0.07         79.358048         Card  Philippine National bank   \n",
       "50443  0.07         11.292352       Wallet  Philippine National bank   \n",
       "50444  0.07         14.999688         Card               BDO Unibank   \n",
       "50445  0.07         14.999688         Card               BDO Unibank   \n",
       "50446  0.07         14.999688         Card               BDO Unibank   \n",
       "\n",
       "      % Profit Margin % Operating Cost % Product Cost  Profit Margin  \\\n",
       "0               0.150             0.15          0.700        1.85400   \n",
       "1               0.118             0.15          0.732        2.73760   \n",
       "2               0.147             0.15          0.703        1.95657   \n",
       "3               0.095             0.15          0.755        0.33440   \n",
       "4               0.120             0.15          0.730        0.52920   \n",
       "...               ...              ...            ...            ...   \n",
       "50442           0.141             0.15          0.709        0.87420   \n",
       "50443           0.068             0.15          0.782        0.73984   \n",
       "50444           0.109             0.15          0.741        0.43273   \n",
       "50445           0.148             0.15          0.702        0.60680   \n",
       "50446           0.107             0.15          0.743        0.65163   \n",
       "\n",
       "       Operating Cost  Product Cost  \n",
       "0              1.8540       8.65200  \n",
       "1              3.4800      16.98240  \n",
       "2              1.9965       9.35693  \n",
       "3              0.5280       2.65760  \n",
       "4              0.6615       3.21930  \n",
       "...               ...           ...  \n",
       "50442          0.9300       4.39580  \n",
       "50443          1.6320       8.50816  \n",
       "50444          0.5955       2.94177  \n",
       "50445          0.6150       2.87820  \n",
       "50446          0.9135       4.52487  \n",
       "\n",
       "[50447 rows x 32 columns]"
      ]
     },
     "execution_count": 7,
     "metadata": {},
     "output_type": "execute_result"
    }
   ],
   "source": [
    "df"
   ]
  },
  {
   "cell_type": "markdown",
   "id": "e9478041",
   "metadata": {},
   "source": [
    "- здійснимо налаштування відображення даних аби можна було переглянути всі колонки набору даних та більше кількість рядків"
   ]
  },
  {
   "cell_type": "code",
   "execution_count": 8,
   "id": "ef66fff4",
   "metadata": {
    "ExecuteTime": {
     "end_time": "2023-04-08T21:49:11.784654Z",
     "start_time": "2023-04-08T21:49:11.766702Z"
    }
   },
   "outputs": [],
   "source": [
    "pd.options.display.max_columns = None"
   ]
  },
  {
   "cell_type": "code",
   "execution_count": 9,
   "id": "b471b871",
   "metadata": {
    "ExecuteTime": {
     "end_time": "2023-04-08T21:49:12.783500Z",
     "start_time": "2023-04-08T21:49:12.778513Z"
    }
   },
   "outputs": [],
   "source": [
    "pd.set_option('display.max_rows', 200)"
   ]
  },
  {
   "cell_type": "code",
   "execution_count": 10,
   "id": "f86a487b",
   "metadata": {
    "ExecuteTime": {
     "end_time": "2023-04-08T21:49:14.315206Z",
     "start_time": "2023-04-08T21:49:14.276302Z"
    },
    "scrolled": true
   },
   "outputs": [
    {
     "data": {
      "text/html": [
       "<div>\n",
       "<style scoped>\n",
       "    .dataframe tbody tr th:only-of-type {\n",
       "        vertical-align: middle;\n",
       "    }\n",
       "\n",
       "    .dataframe tbody tr th {\n",
       "        vertical-align: top;\n",
       "    }\n",
       "\n",
       "    .dataframe thead th {\n",
       "        text-align: right;\n",
       "    }\n",
       "</style>\n",
       "<table border=\"1\" class=\"dataframe\">\n",
       "  <thead>\n",
       "    <tr style=\"text-align: right;\">\n",
       "      <th></th>\n",
       "      <th>Receipt Number</th>\n",
       "      <th>Date</th>\n",
       "      <th>Year</th>\n",
       "      <th>Month</th>\n",
       "      <th>Time</th>\n",
       "      <th>Mobile Number</th>\n",
       "      <th>Membership ID</th>\n",
       "      <th>Loyalty Card Points</th>\n",
       "      <th>Age</th>\n",
       "      <th>Gender</th>\n",
       "      <th>City</th>\n",
       "      <th>Country</th>\n",
       "      <th>Category</th>\n",
       "      <th>Sub_Category</th>\n",
       "      <th>Items</th>\n",
       "      <th>Brand</th>\n",
       "      <th>Description</th>\n",
       "      <th>Price</th>\n",
       "      <th>QTY</th>\n",
       "      <th>DISC</th>\n",
       "      <th>Amount</th>\n",
       "      <th>Net Bill Amount</th>\n",
       "      <th>GST</th>\n",
       "      <th>Gross Bill Amount</th>\n",
       "      <th>Payment Mode</th>\n",
       "      <th>Bank Name</th>\n",
       "      <th>% Profit Margin</th>\n",
       "      <th>% Operating Cost</th>\n",
       "      <th>% Product Cost</th>\n",
       "      <th>Profit Margin</th>\n",
       "      <th>Operating Cost</th>\n",
       "      <th>Product Cost</th>\n",
       "    </tr>\n",
       "  </thead>\n",
       "  <tbody>\n",
       "    <tr>\n",
       "      <th>0</th>\n",
       "      <td>GIJ00001</td>\n",
       "      <td>2016-01-02</td>\n",
       "      <td>2016.0</td>\n",
       "      <td>1.0</td>\n",
       "      <td>10:08:03.260000</td>\n",
       "      <td>9.793549e+09</td>\n",
       "      <td>MIDID0001</td>\n",
       "      <td>1.0</td>\n",
       "      <td>36.0</td>\n",
       "      <td>Male</td>\n",
       "      <td>Jakarta</td>\n",
       "      <td>Indonesia</td>\n",
       "      <td>Choco, Snacks, Sweets</td>\n",
       "      <td>Biscuits &amp; Crackers</td>\n",
       "      <td>Oreo mini oreo sharepack</td>\n",
       "      <td>Oreo</td>\n",
       "      <td>540 g</td>\n",
       "      <td>3.09</td>\n",
       "      <td>4.0</td>\n",
       "      <td>0.02</td>\n",
       "      <td>12.1128</td>\n",
       "      <td>12.1128</td>\n",
       "      <td>0.1</td>\n",
       "      <td>13.32408</td>\n",
       "      <td>Card</td>\n",
       "      <td>Enterprise Bank</td>\n",
       "      <td>0.150</td>\n",
       "      <td>0.15</td>\n",
       "      <td>0.700</td>\n",
       "      <td>1.85400</td>\n",
       "      <td>1.8540</td>\n",
       "      <td>8.65200</td>\n",
       "    </tr>\n",
       "    <tr>\n",
       "      <th>1</th>\n",
       "      <td>GIJ00002</td>\n",
       "      <td>2016-01-02</td>\n",
       "      <td>2016.0</td>\n",
       "      <td>1.0</td>\n",
       "      <td>15:46:50.832000</td>\n",
       "      <td>9.938441e+09</td>\n",
       "      <td>MIDID0002</td>\n",
       "      <td>2.0</td>\n",
       "      <td>54.0</td>\n",
       "      <td>Male</td>\n",
       "      <td>Jakarta</td>\n",
       "      <td>Indonesia</td>\n",
       "      <td>Wines, Beers &amp; Spirits</td>\n",
       "      <td>Beer</td>\n",
       "      <td>Ashai Lager Beer</td>\n",
       "      <td>Ashai</td>\n",
       "      <td>480 ml</td>\n",
       "      <td>11.60</td>\n",
       "      <td>2.0</td>\n",
       "      <td>0.01</td>\n",
       "      <td>22.9680</td>\n",
       "      <td>22.9680</td>\n",
       "      <td>0.1</td>\n",
       "      <td>25.26480</td>\n",
       "      <td>Card</td>\n",
       "      <td>Philippine Veterans Bank</td>\n",
       "      <td>0.118</td>\n",
       "      <td>0.15</td>\n",
       "      <td>0.732</td>\n",
       "      <td>2.73760</td>\n",
       "      <td>3.4800</td>\n",
       "      <td>16.98240</td>\n",
       "    </tr>\n",
       "    <tr>\n",
       "      <th>2</th>\n",
       "      <td>GIJ00003</td>\n",
       "      <td>2016-01-02</td>\n",
       "      <td>2016.0</td>\n",
       "      <td>1.0</td>\n",
       "      <td>11:28:52.166000</td>\n",
       "      <td>9.976743e+09</td>\n",
       "      <td>MIDID0003</td>\n",
       "      <td>1.0</td>\n",
       "      <td>16.0</td>\n",
       "      <td>Female</td>\n",
       "      <td>Jakarta</td>\n",
       "      <td>Indonesia</td>\n",
       "      <td>Fruit &amp; Vegetable</td>\n",
       "      <td>Frozen Fruits</td>\n",
       "      <td>Cascadian farm organic strawberries</td>\n",
       "      <td>Cascadiam Farm</td>\n",
       "      <td>1 Kg</td>\n",
       "      <td>13.31</td>\n",
       "      <td>1.0</td>\n",
       "      <td>0.01</td>\n",
       "      <td>13.1769</td>\n",
       "      <td>38.3526</td>\n",
       "      <td>0.1</td>\n",
       "      <td>42.18786</td>\n",
       "      <td>Cash</td>\n",
       "      <td>BDO Unibank</td>\n",
       "      <td>0.147</td>\n",
       "      <td>0.15</td>\n",
       "      <td>0.703</td>\n",
       "      <td>1.95657</td>\n",
       "      <td>1.9965</td>\n",
       "      <td>9.35693</td>\n",
       "    </tr>\n",
       "    <tr>\n",
       "      <th>3</th>\n",
       "      <td>GIJ00003</td>\n",
       "      <td>2016-01-02</td>\n",
       "      <td>2016.0</td>\n",
       "      <td>1.0</td>\n",
       "      <td>11:28:52.166000</td>\n",
       "      <td>9.976743e+09</td>\n",
       "      <td>MIDID0003</td>\n",
       "      <td>1.0</td>\n",
       "      <td>16.0</td>\n",
       "      <td>Female</td>\n",
       "      <td>Jakarta</td>\n",
       "      <td>Indonesia</td>\n",
       "      <td>Fruit &amp; Vegetable</td>\n",
       "      <td>Fresh Vegetables</td>\n",
       "      <td>Oraganic 4 Life Red onions</td>\n",
       "      <td>Organic 4 Life</td>\n",
       "      <td>270 g</td>\n",
       "      <td>3.52</td>\n",
       "      <td>1.0</td>\n",
       "      <td>0.01</td>\n",
       "      <td>3.4848</td>\n",
       "      <td>38.3526</td>\n",
       "      <td>0.1</td>\n",
       "      <td>42.18786</td>\n",
       "      <td>Cash</td>\n",
       "      <td>BDO Unibank</td>\n",
       "      <td>0.095</td>\n",
       "      <td>0.15</td>\n",
       "      <td>0.755</td>\n",
       "      <td>0.33440</td>\n",
       "      <td>0.5280</td>\n",
       "      <td>2.65760</td>\n",
       "    </tr>\n",
       "    <tr>\n",
       "      <th>4</th>\n",
       "      <td>GIJ00003</td>\n",
       "      <td>2016-01-02</td>\n",
       "      <td>2016.0</td>\n",
       "      <td>1.0</td>\n",
       "      <td>11:28:52.166000</td>\n",
       "      <td>9.976743e+09</td>\n",
       "      <td>MIDID0003</td>\n",
       "      <td>2.0</td>\n",
       "      <td>16.0</td>\n",
       "      <td>Female</td>\n",
       "      <td>Jakarta</td>\n",
       "      <td>Indonesia</td>\n",
       "      <td>Fruit &amp; Vegetable</td>\n",
       "      <td>Lettuce &amp; Salads</td>\n",
       "      <td>LIVEWELL Italian mesclun salad</td>\n",
       "      <td>LIVEWELL</td>\n",
       "      <td>570 g</td>\n",
       "      <td>4.41</td>\n",
       "      <td>1.0</td>\n",
       "      <td>0.01</td>\n",
       "      <td>4.3659</td>\n",
       "      <td>38.3526</td>\n",
       "      <td>0.1</td>\n",
       "      <td>42.18786</td>\n",
       "      <td>Cash</td>\n",
       "      <td>BDO Unibank</td>\n",
       "      <td>0.120</td>\n",
       "      <td>0.15</td>\n",
       "      <td>0.730</td>\n",
       "      <td>0.52920</td>\n",
       "      <td>0.6615</td>\n",
       "      <td>3.21930</td>\n",
       "    </tr>\n",
       "    <tr>\n",
       "      <th>5</th>\n",
       "      <td>GIJ00003</td>\n",
       "      <td>2016-01-02</td>\n",
       "      <td>2016.0</td>\n",
       "      <td>1.0</td>\n",
       "      <td>11:28:52.166000</td>\n",
       "      <td>9.976743e+09</td>\n",
       "      <td>MIDID0003</td>\n",
       "      <td>3.0</td>\n",
       "      <td>16.0</td>\n",
       "      <td>Female</td>\n",
       "      <td>Jakarta</td>\n",
       "      <td>Indonesia</td>\n",
       "      <td>Fruit &amp; Vegetable</td>\n",
       "      <td>Lettuce &amp; Salads</td>\n",
       "      <td>ThyGrace Romanine lettuce</td>\n",
       "      <td>ThyGrace</td>\n",
       "      <td>100 g</td>\n",
       "      <td>2.81</td>\n",
       "      <td>1.0</td>\n",
       "      <td>0.01</td>\n",
       "      <td>2.7819</td>\n",
       "      <td>38.3526</td>\n",
       "      <td>0.1</td>\n",
       "      <td>42.18786</td>\n",
       "      <td>Cash</td>\n",
       "      <td>BDO Unibank</td>\n",
       "      <td>0.120</td>\n",
       "      <td>0.15</td>\n",
       "      <td>0.730</td>\n",
       "      <td>0.33720</td>\n",
       "      <td>0.4215</td>\n",
       "      <td>2.05130</td>\n",
       "    </tr>\n",
       "    <tr>\n",
       "      <th>6</th>\n",
       "      <td>GIJ00003</td>\n",
       "      <td>2016-01-02</td>\n",
       "      <td>2016.0</td>\n",
       "      <td>1.0</td>\n",
       "      <td>11:28:52.166000</td>\n",
       "      <td>9.976743e+09</td>\n",
       "      <td>MIDID0003</td>\n",
       "      <td>3.0</td>\n",
       "      <td>16.0</td>\n",
       "      <td>Female</td>\n",
       "      <td>Jakarta</td>\n",
       "      <td>Indonesia</td>\n",
       "      <td>Fruit &amp; Vegetable</td>\n",
       "      <td>Fresh Vegetables</td>\n",
       "      <td>YUVVO French Bean</td>\n",
       "      <td>YUVVO</td>\n",
       "      <td>260 g</td>\n",
       "      <td>3.28</td>\n",
       "      <td>1.0</td>\n",
       "      <td>0.01</td>\n",
       "      <td>3.2472</td>\n",
       "      <td>38.3526</td>\n",
       "      <td>0.1</td>\n",
       "      <td>42.18786</td>\n",
       "      <td>Cash</td>\n",
       "      <td>BDO Unibank</td>\n",
       "      <td>0.095</td>\n",
       "      <td>0.15</td>\n",
       "      <td>0.755</td>\n",
       "      <td>0.31160</td>\n",
       "      <td>0.4920</td>\n",
       "      <td>2.47640</td>\n",
       "    </tr>\n",
       "    <tr>\n",
       "      <th>7</th>\n",
       "      <td>GIJ00003</td>\n",
       "      <td>2016-01-02</td>\n",
       "      <td>2016.0</td>\n",
       "      <td>1.0</td>\n",
       "      <td>11:28:52.166000</td>\n",
       "      <td>9.976743e+09</td>\n",
       "      <td>MIDID0003</td>\n",
       "      <td>4.0</td>\n",
       "      <td>16.0</td>\n",
       "      <td>Female</td>\n",
       "      <td>Jakarta</td>\n",
       "      <td>Indonesia</td>\n",
       "      <td>Fruit &amp; Vegetable</td>\n",
       "      <td>Fresh Vegetables</td>\n",
       "      <td>ThyGrace Holland potato</td>\n",
       "      <td>ThyGrace</td>\n",
       "      <td>690 g</td>\n",
       "      <td>3.75</td>\n",
       "      <td>1.0</td>\n",
       "      <td>0.01</td>\n",
       "      <td>3.7125</td>\n",
       "      <td>38.3526</td>\n",
       "      <td>0.1</td>\n",
       "      <td>42.18786</td>\n",
       "      <td>Cash</td>\n",
       "      <td>BDO Unibank</td>\n",
       "      <td>0.095</td>\n",
       "      <td>0.15</td>\n",
       "      <td>0.755</td>\n",
       "      <td>0.35625</td>\n",
       "      <td>0.5625</td>\n",
       "      <td>2.83125</td>\n",
       "    </tr>\n",
       "    <tr>\n",
       "      <th>8</th>\n",
       "      <td>GIJ00004</td>\n",
       "      <td>2016-01-03</td>\n",
       "      <td>2016.0</td>\n",
       "      <td>1.0</td>\n",
       "      <td>20:52:55.730000</td>\n",
       "      <td>9.800896e+09</td>\n",
       "      <td>MIDID0004</td>\n",
       "      <td>0.0</td>\n",
       "      <td>20.0</td>\n",
       "      <td>Female</td>\n",
       "      <td>Jakarta</td>\n",
       "      <td>Indonesia</td>\n",
       "      <td>Pet Care</td>\n",
       "      <td>Dog Food &amp; Trat</td>\n",
       "      <td>Lamb pate dog food</td>\n",
       "      <td>Nature's Gift</td>\n",
       "      <td>600 g</td>\n",
       "      <td>5.84</td>\n",
       "      <td>1.0</td>\n",
       "      <td>0.02</td>\n",
       "      <td>5.7232</td>\n",
       "      <td>21.1974</td>\n",
       "      <td>0.1</td>\n",
       "      <td>23.31714</td>\n",
       "      <td>Cash</td>\n",
       "      <td>BDO Unibank</td>\n",
       "      <td>0.148</td>\n",
       "      <td>0.15</td>\n",
       "      <td>0.702</td>\n",
       "      <td>0.86432</td>\n",
       "      <td>0.8760</td>\n",
       "      <td>4.09968</td>\n",
       "    </tr>\n",
       "    <tr>\n",
       "      <th>9</th>\n",
       "      <td>GIJ00004</td>\n",
       "      <td>2016-01-03</td>\n",
       "      <td>2016.0</td>\n",
       "      <td>1.0</td>\n",
       "      <td>20:52:55.730000</td>\n",
       "      <td>9.800896e+09</td>\n",
       "      <td>MIDID0004</td>\n",
       "      <td>1.0</td>\n",
       "      <td>20.0</td>\n",
       "      <td>Female</td>\n",
       "      <td>Jakarta</td>\n",
       "      <td>Indonesia</td>\n",
       "      <td>Pet Care</td>\n",
       "      <td>Pet Food</td>\n",
       "      <td>Nutro Beef with vegetables dog food</td>\n",
       "      <td>Nutro</td>\n",
       "      <td>270 g</td>\n",
       "      <td>7.30</td>\n",
       "      <td>1.0</td>\n",
       "      <td>0.02</td>\n",
       "      <td>7.1540</td>\n",
       "      <td>21.1974</td>\n",
       "      <td>0.1</td>\n",
       "      <td>23.31714</td>\n",
       "      <td>Cash</td>\n",
       "      <td>BDO Unibank</td>\n",
       "      <td>0.076</td>\n",
       "      <td>0.15</td>\n",
       "      <td>0.774</td>\n",
       "      <td>0.55480</td>\n",
       "      <td>1.0950</td>\n",
       "      <td>5.65020</td>\n",
       "    </tr>\n",
       "  </tbody>\n",
       "</table>\n",
       "</div>"
      ],
      "text/plain": [
       "  Receipt Number       Date    Year  Month             Time  Mobile Number  \\\n",
       "0       GIJ00001 2016-01-02  2016.0    1.0  10:08:03.260000   9.793549e+09   \n",
       "1       GIJ00002 2016-01-02  2016.0    1.0  15:46:50.832000   9.938441e+09   \n",
       "2       GIJ00003 2016-01-02  2016.0    1.0  11:28:52.166000   9.976743e+09   \n",
       "3       GIJ00003 2016-01-02  2016.0    1.0  11:28:52.166000   9.976743e+09   \n",
       "4       GIJ00003 2016-01-02  2016.0    1.0  11:28:52.166000   9.976743e+09   \n",
       "5       GIJ00003 2016-01-02  2016.0    1.0  11:28:52.166000   9.976743e+09   \n",
       "6       GIJ00003 2016-01-02  2016.0    1.0  11:28:52.166000   9.976743e+09   \n",
       "7       GIJ00003 2016-01-02  2016.0    1.0  11:28:52.166000   9.976743e+09   \n",
       "8       GIJ00004 2016-01-03  2016.0    1.0  20:52:55.730000   9.800896e+09   \n",
       "9       GIJ00004 2016-01-03  2016.0    1.0  20:52:55.730000   9.800896e+09   \n",
       "\n",
       "  Membership ID  Loyalty Card Points   Age  Gender     City    Country  \\\n",
       "0     MIDID0001                  1.0  36.0    Male  Jakarta  Indonesia   \n",
       "1     MIDID0002                  2.0  54.0    Male  Jakarta  Indonesia   \n",
       "2     MIDID0003                  1.0  16.0  Female  Jakarta  Indonesia   \n",
       "3     MIDID0003                  1.0  16.0  Female  Jakarta  Indonesia   \n",
       "4     MIDID0003                  2.0  16.0  Female  Jakarta  Indonesia   \n",
       "5     MIDID0003                  3.0  16.0  Female  Jakarta  Indonesia   \n",
       "6     MIDID0003                  3.0  16.0  Female  Jakarta  Indonesia   \n",
       "7     MIDID0003                  4.0  16.0  Female  Jakarta  Indonesia   \n",
       "8     MIDID0004                  0.0  20.0  Female  Jakarta  Indonesia   \n",
       "9     MIDID0004                  1.0  20.0  Female  Jakarta  Indonesia   \n",
       "\n",
       "                 Category         Sub_Category  \\\n",
       "0   Choco, Snacks, Sweets  Biscuits & Crackers   \n",
       "1  Wines, Beers & Spirits                 Beer   \n",
       "2       Fruit & Vegetable        Frozen Fruits   \n",
       "3       Fruit & Vegetable     Fresh Vegetables   \n",
       "4       Fruit & Vegetable     Lettuce & Salads   \n",
       "5       Fruit & Vegetable     Lettuce & Salads   \n",
       "6       Fruit & Vegetable     Fresh Vegetables   \n",
       "7       Fruit & Vegetable     Fresh Vegetables   \n",
       "8                Pet Care      Dog Food & Trat   \n",
       "9                Pet Care             Pet Food   \n",
       "\n",
       "                                 Items          Brand  Description   Price  \\\n",
       "0             Oreo mini oreo sharepack            Oreo        540 g   3.09   \n",
       "1                     Ashai Lager Beer           Ashai       480 ml  11.60   \n",
       "2  Cascadian farm organic strawberries  Cascadiam Farm         1 Kg  13.31   \n",
       "3           Oraganic 4 Life Red onions  Organic 4 Life        270 g   3.52   \n",
       "4       LIVEWELL Italian mesclun salad        LIVEWELL        570 g   4.41   \n",
       "5            ThyGrace Romanine lettuce        ThyGrace        100 g   2.81   \n",
       "6                    YUVVO French Bean           YUVVO        260 g   3.28   \n",
       "7              ThyGrace Holland potato        ThyGrace        690 g   3.75   \n",
       "8                   Lamb pate dog food   Nature's Gift        600 g   5.84   \n",
       "9  Nutro Beef with vegetables dog food           Nutro        270 g   7.30   \n",
       "\n",
       "   QTY  DISC   Amount  Net Bill Amount  GST  Gross Bill Amount Payment Mode  \\\n",
       "0  4.0  0.02  12.1128          12.1128  0.1           13.32408         Card   \n",
       "1  2.0  0.01  22.9680          22.9680  0.1           25.26480         Card   \n",
       "2  1.0  0.01  13.1769          38.3526  0.1           42.18786         Cash   \n",
       "3  1.0  0.01   3.4848          38.3526  0.1           42.18786         Cash   \n",
       "4  1.0  0.01   4.3659          38.3526  0.1           42.18786         Cash   \n",
       "5  1.0  0.01   2.7819          38.3526  0.1           42.18786         Cash   \n",
       "6  1.0  0.01   3.2472          38.3526  0.1           42.18786         Cash   \n",
       "7  1.0  0.01   3.7125          38.3526  0.1           42.18786         Cash   \n",
       "8  1.0  0.02   5.7232          21.1974  0.1           23.31714         Cash   \n",
       "9  1.0  0.02   7.1540          21.1974  0.1           23.31714         Cash   \n",
       "\n",
       "                  Bank Name  % Profit Margin  % Operating Cost  \\\n",
       "0           Enterprise Bank            0.150              0.15   \n",
       "1  Philippine Veterans Bank            0.118              0.15   \n",
       "2               BDO Unibank            0.147              0.15   \n",
       "3               BDO Unibank            0.095              0.15   \n",
       "4               BDO Unibank            0.120              0.15   \n",
       "5               BDO Unibank            0.120              0.15   \n",
       "6               BDO Unibank            0.095              0.15   \n",
       "7               BDO Unibank            0.095              0.15   \n",
       "8               BDO Unibank            0.148              0.15   \n",
       "9               BDO Unibank            0.076              0.15   \n",
       "\n",
       "   % Product Cost  Profit Margin  Operating Cost  Product Cost  \n",
       "0           0.700        1.85400          1.8540       8.65200  \n",
       "1           0.732        2.73760          3.4800      16.98240  \n",
       "2           0.703        1.95657          1.9965       9.35693  \n",
       "3           0.755        0.33440          0.5280       2.65760  \n",
       "4           0.730        0.52920          0.6615       3.21930  \n",
       "5           0.730        0.33720          0.4215       2.05130  \n",
       "6           0.755        0.31160          0.4920       2.47640  \n",
       "7           0.755        0.35625          0.5625       2.83125  \n",
       "8           0.702        0.86432          0.8760       4.09968  \n",
       "9           0.774        0.55480          1.0950       5.65020  "
      ]
     },
     "execution_count": 10,
     "metadata": {},
     "output_type": "execute_result"
    }
   ],
   "source": [
    "df[:10]"
   ]
  },
  {
   "cell_type": "markdown",
   "id": "00115859",
   "metadata": {
    "ExecuteTime": {
     "end_time": "2023-04-08T17:05:06.604592Z",
     "start_time": "2023-04-08T17:05:06.598583Z"
    }
   },
   "source": [
    "- перевіримо коректність розрахункових даних щодо рахунків, в яких більше однієї позиції, так як дані по стовбчику \"Net Bill Amount\" та \"Gross Bill Amount\" наведені одразу за весь рахунок, а не за позицію в рахунку. \n",
    "візьмемо перший такий рахунок з номером \"GIJ00003\"."
   ]
  },
  {
   "cell_type": "code",
   "execution_count": 11,
   "id": "b3644e29",
   "metadata": {
    "ExecuteTime": {
     "end_time": "2023-04-08T21:49:23.059072Z",
     "start_time": "2023-04-08T21:49:23.047105Z"
    }
   },
   "outputs": [
    {
     "data": {
      "text/plain": [
       "30.769199999999998"
      ]
     },
     "execution_count": 11,
     "metadata": {},
     "output_type": "execute_result"
    }
   ],
   "source": [
    "df[df['Receipt Number'] == 'GIJ00003'].Amount.sum()"
   ]
  },
  {
   "cell_type": "markdown",
   "id": "52d70cf2",
   "metadata": {
    "ExecuteTime": {
     "end_time": "2023-04-08T16:51:54.224778Z",
     "start_time": "2023-04-08T16:51:54.210826Z"
    }
   },
   "source": [
    "Бачимо, що в таблиці сума по рахунку по показнику \"Net Bill Amount\" становить 38.3526, у той час як наш перерахунок дав результат 30.7692. Перерахуємо показники \"Net Bill Amount\" та \"Gross Bill Amount\" окремо для кожної позиції та додамо нові стовбчики до набору даних."
   ]
  },
  {
   "cell_type": "code",
   "execution_count": 12,
   "id": "8f83ec35",
   "metadata": {
    "ExecuteTime": {
     "end_time": "2023-04-08T21:49:30.183856Z",
     "start_time": "2023-04-08T21:49:30.172888Z"
    }
   },
   "outputs": [],
   "source": [
    "df['Net Bill Amount Recalculation'] = df.Price * df.QTY *(1-df.DISC)"
   ]
  },
  {
   "cell_type": "code",
   "execution_count": 13,
   "id": "a700fff3",
   "metadata": {
    "ExecuteTime": {
     "end_time": "2023-04-08T21:49:32.981516Z",
     "start_time": "2023-04-08T21:49:32.969549Z"
    }
   },
   "outputs": [],
   "source": [
    "df['Gross Bill Amount Recalculation'] = df['Net Bill Amount Recalculation'] * (1 + df.GST)"
   ]
  },
  {
   "cell_type": "code",
   "execution_count": 14,
   "id": "588ebd75",
   "metadata": {
    "ExecuteTime": {
     "end_time": "2023-04-08T21:49:35.621282Z",
     "start_time": "2023-04-08T21:49:35.589366Z"
    }
   },
   "outputs": [
    {
     "data": {
      "text/html": [
       "<div>\n",
       "<style scoped>\n",
       "    .dataframe tbody tr th:only-of-type {\n",
       "        vertical-align: middle;\n",
       "    }\n",
       "\n",
       "    .dataframe tbody tr th {\n",
       "        vertical-align: top;\n",
       "    }\n",
       "\n",
       "    .dataframe thead th {\n",
       "        text-align: right;\n",
       "    }\n",
       "</style>\n",
       "<table border=\"1\" class=\"dataframe\">\n",
       "  <thead>\n",
       "    <tr style=\"text-align: right;\">\n",
       "      <th></th>\n",
       "      <th>Receipt Number</th>\n",
       "      <th>Date</th>\n",
       "      <th>Year</th>\n",
       "      <th>Month</th>\n",
       "      <th>Time</th>\n",
       "      <th>Mobile Number</th>\n",
       "      <th>Membership ID</th>\n",
       "      <th>Loyalty Card Points</th>\n",
       "      <th>Age</th>\n",
       "      <th>Gender</th>\n",
       "      <th>City</th>\n",
       "      <th>Country</th>\n",
       "      <th>Category</th>\n",
       "      <th>Sub_Category</th>\n",
       "      <th>Items</th>\n",
       "      <th>Brand</th>\n",
       "      <th>Description</th>\n",
       "      <th>Price</th>\n",
       "      <th>QTY</th>\n",
       "      <th>DISC</th>\n",
       "      <th>Amount</th>\n",
       "      <th>Net Bill Amount</th>\n",
       "      <th>GST</th>\n",
       "      <th>Gross Bill Amount</th>\n",
       "      <th>Payment Mode</th>\n",
       "      <th>Bank Name</th>\n",
       "      <th>% Profit Margin</th>\n",
       "      <th>% Operating Cost</th>\n",
       "      <th>% Product Cost</th>\n",
       "      <th>Profit Margin</th>\n",
       "      <th>Operating Cost</th>\n",
       "      <th>Product Cost</th>\n",
       "      <th>Net Bill Amount Recalculation</th>\n",
       "      <th>Gross Bill Amount Recalculation</th>\n",
       "    </tr>\n",
       "  </thead>\n",
       "  <tbody>\n",
       "    <tr>\n",
       "      <th>0</th>\n",
       "      <td>GIJ00001</td>\n",
       "      <td>2016-01-02</td>\n",
       "      <td>2016.0</td>\n",
       "      <td>1.0</td>\n",
       "      <td>10:08:03.260000</td>\n",
       "      <td>9.793549e+09</td>\n",
       "      <td>MIDID0001</td>\n",
       "      <td>1.0</td>\n",
       "      <td>36.0</td>\n",
       "      <td>Male</td>\n",
       "      <td>Jakarta</td>\n",
       "      <td>Indonesia</td>\n",
       "      <td>Choco, Snacks, Sweets</td>\n",
       "      <td>Biscuits &amp; Crackers</td>\n",
       "      <td>Oreo mini oreo sharepack</td>\n",
       "      <td>Oreo</td>\n",
       "      <td>540 g</td>\n",
       "      <td>3.09</td>\n",
       "      <td>4.0</td>\n",
       "      <td>0.02</td>\n",
       "      <td>12.1128</td>\n",
       "      <td>12.1128</td>\n",
       "      <td>0.1</td>\n",
       "      <td>13.32408</td>\n",
       "      <td>Card</td>\n",
       "      <td>Enterprise Bank</td>\n",
       "      <td>0.150</td>\n",
       "      <td>0.15</td>\n",
       "      <td>0.700</td>\n",
       "      <td>1.85400</td>\n",
       "      <td>1.8540</td>\n",
       "      <td>8.65200</td>\n",
       "      <td>12.1128</td>\n",
       "      <td>13.32408</td>\n",
       "    </tr>\n",
       "    <tr>\n",
       "      <th>1</th>\n",
       "      <td>GIJ00002</td>\n",
       "      <td>2016-01-02</td>\n",
       "      <td>2016.0</td>\n",
       "      <td>1.0</td>\n",
       "      <td>15:46:50.832000</td>\n",
       "      <td>9.938441e+09</td>\n",
       "      <td>MIDID0002</td>\n",
       "      <td>2.0</td>\n",
       "      <td>54.0</td>\n",
       "      <td>Male</td>\n",
       "      <td>Jakarta</td>\n",
       "      <td>Indonesia</td>\n",
       "      <td>Wines, Beers &amp; Spirits</td>\n",
       "      <td>Beer</td>\n",
       "      <td>Ashai Lager Beer</td>\n",
       "      <td>Ashai</td>\n",
       "      <td>480 ml</td>\n",
       "      <td>11.60</td>\n",
       "      <td>2.0</td>\n",
       "      <td>0.01</td>\n",
       "      <td>22.9680</td>\n",
       "      <td>22.9680</td>\n",
       "      <td>0.1</td>\n",
       "      <td>25.26480</td>\n",
       "      <td>Card</td>\n",
       "      <td>Philippine Veterans Bank</td>\n",
       "      <td>0.118</td>\n",
       "      <td>0.15</td>\n",
       "      <td>0.732</td>\n",
       "      <td>2.73760</td>\n",
       "      <td>3.4800</td>\n",
       "      <td>16.98240</td>\n",
       "      <td>22.9680</td>\n",
       "      <td>25.26480</td>\n",
       "    </tr>\n",
       "    <tr>\n",
       "      <th>2</th>\n",
       "      <td>GIJ00003</td>\n",
       "      <td>2016-01-02</td>\n",
       "      <td>2016.0</td>\n",
       "      <td>1.0</td>\n",
       "      <td>11:28:52.166000</td>\n",
       "      <td>9.976743e+09</td>\n",
       "      <td>MIDID0003</td>\n",
       "      <td>1.0</td>\n",
       "      <td>16.0</td>\n",
       "      <td>Female</td>\n",
       "      <td>Jakarta</td>\n",
       "      <td>Indonesia</td>\n",
       "      <td>Fruit &amp; Vegetable</td>\n",
       "      <td>Frozen Fruits</td>\n",
       "      <td>Cascadian farm organic strawberries</td>\n",
       "      <td>Cascadiam Farm</td>\n",
       "      <td>1 Kg</td>\n",
       "      <td>13.31</td>\n",
       "      <td>1.0</td>\n",
       "      <td>0.01</td>\n",
       "      <td>13.1769</td>\n",
       "      <td>38.3526</td>\n",
       "      <td>0.1</td>\n",
       "      <td>42.18786</td>\n",
       "      <td>Cash</td>\n",
       "      <td>BDO Unibank</td>\n",
       "      <td>0.147</td>\n",
       "      <td>0.15</td>\n",
       "      <td>0.703</td>\n",
       "      <td>1.95657</td>\n",
       "      <td>1.9965</td>\n",
       "      <td>9.35693</td>\n",
       "      <td>13.1769</td>\n",
       "      <td>14.49459</td>\n",
       "    </tr>\n",
       "    <tr>\n",
       "      <th>3</th>\n",
       "      <td>GIJ00003</td>\n",
       "      <td>2016-01-02</td>\n",
       "      <td>2016.0</td>\n",
       "      <td>1.0</td>\n",
       "      <td>11:28:52.166000</td>\n",
       "      <td>9.976743e+09</td>\n",
       "      <td>MIDID0003</td>\n",
       "      <td>1.0</td>\n",
       "      <td>16.0</td>\n",
       "      <td>Female</td>\n",
       "      <td>Jakarta</td>\n",
       "      <td>Indonesia</td>\n",
       "      <td>Fruit &amp; Vegetable</td>\n",
       "      <td>Fresh Vegetables</td>\n",
       "      <td>Oraganic 4 Life Red onions</td>\n",
       "      <td>Organic 4 Life</td>\n",
       "      <td>270 g</td>\n",
       "      <td>3.52</td>\n",
       "      <td>1.0</td>\n",
       "      <td>0.01</td>\n",
       "      <td>3.4848</td>\n",
       "      <td>38.3526</td>\n",
       "      <td>0.1</td>\n",
       "      <td>42.18786</td>\n",
       "      <td>Cash</td>\n",
       "      <td>BDO Unibank</td>\n",
       "      <td>0.095</td>\n",
       "      <td>0.15</td>\n",
       "      <td>0.755</td>\n",
       "      <td>0.33440</td>\n",
       "      <td>0.5280</td>\n",
       "      <td>2.65760</td>\n",
       "      <td>3.4848</td>\n",
       "      <td>3.83328</td>\n",
       "    </tr>\n",
       "    <tr>\n",
       "      <th>4</th>\n",
       "      <td>GIJ00003</td>\n",
       "      <td>2016-01-02</td>\n",
       "      <td>2016.0</td>\n",
       "      <td>1.0</td>\n",
       "      <td>11:28:52.166000</td>\n",
       "      <td>9.976743e+09</td>\n",
       "      <td>MIDID0003</td>\n",
       "      <td>2.0</td>\n",
       "      <td>16.0</td>\n",
       "      <td>Female</td>\n",
       "      <td>Jakarta</td>\n",
       "      <td>Indonesia</td>\n",
       "      <td>Fruit &amp; Vegetable</td>\n",
       "      <td>Lettuce &amp; Salads</td>\n",
       "      <td>LIVEWELL Italian mesclun salad</td>\n",
       "      <td>LIVEWELL</td>\n",
       "      <td>570 g</td>\n",
       "      <td>4.41</td>\n",
       "      <td>1.0</td>\n",
       "      <td>0.01</td>\n",
       "      <td>4.3659</td>\n",
       "      <td>38.3526</td>\n",
       "      <td>0.1</td>\n",
       "      <td>42.18786</td>\n",
       "      <td>Cash</td>\n",
       "      <td>BDO Unibank</td>\n",
       "      <td>0.120</td>\n",
       "      <td>0.15</td>\n",
       "      <td>0.730</td>\n",
       "      <td>0.52920</td>\n",
       "      <td>0.6615</td>\n",
       "      <td>3.21930</td>\n",
       "      <td>4.3659</td>\n",
       "      <td>4.80249</td>\n",
       "    </tr>\n",
       "  </tbody>\n",
       "</table>\n",
       "</div>"
      ],
      "text/plain": [
       "  Receipt Number       Date    Year  Month             Time  Mobile Number  \\\n",
       "0       GIJ00001 2016-01-02  2016.0    1.0  10:08:03.260000   9.793549e+09   \n",
       "1       GIJ00002 2016-01-02  2016.0    1.0  15:46:50.832000   9.938441e+09   \n",
       "2       GIJ00003 2016-01-02  2016.0    1.0  11:28:52.166000   9.976743e+09   \n",
       "3       GIJ00003 2016-01-02  2016.0    1.0  11:28:52.166000   9.976743e+09   \n",
       "4       GIJ00003 2016-01-02  2016.0    1.0  11:28:52.166000   9.976743e+09   \n",
       "\n",
       "  Membership ID  Loyalty Card Points   Age  Gender     City    Country  \\\n",
       "0     MIDID0001                  1.0  36.0    Male  Jakarta  Indonesia   \n",
       "1     MIDID0002                  2.0  54.0    Male  Jakarta  Indonesia   \n",
       "2     MIDID0003                  1.0  16.0  Female  Jakarta  Indonesia   \n",
       "3     MIDID0003                  1.0  16.0  Female  Jakarta  Indonesia   \n",
       "4     MIDID0003                  2.0  16.0  Female  Jakarta  Indonesia   \n",
       "\n",
       "                 Category         Sub_Category  \\\n",
       "0   Choco, Snacks, Sweets  Biscuits & Crackers   \n",
       "1  Wines, Beers & Spirits                 Beer   \n",
       "2       Fruit & Vegetable        Frozen Fruits   \n",
       "3       Fruit & Vegetable     Fresh Vegetables   \n",
       "4       Fruit & Vegetable     Lettuce & Salads   \n",
       "\n",
       "                                 Items          Brand  Description   Price  \\\n",
       "0             Oreo mini oreo sharepack            Oreo        540 g   3.09   \n",
       "1                     Ashai Lager Beer           Ashai       480 ml  11.60   \n",
       "2  Cascadian farm organic strawberries  Cascadiam Farm         1 Kg  13.31   \n",
       "3           Oraganic 4 Life Red onions  Organic 4 Life        270 g   3.52   \n",
       "4       LIVEWELL Italian mesclun salad        LIVEWELL        570 g   4.41   \n",
       "\n",
       "   QTY  DISC   Amount  Net Bill Amount  GST  Gross Bill Amount Payment Mode  \\\n",
       "0  4.0  0.02  12.1128          12.1128  0.1           13.32408         Card   \n",
       "1  2.0  0.01  22.9680          22.9680  0.1           25.26480         Card   \n",
       "2  1.0  0.01  13.1769          38.3526  0.1           42.18786         Cash   \n",
       "3  1.0  0.01   3.4848          38.3526  0.1           42.18786         Cash   \n",
       "4  1.0  0.01   4.3659          38.3526  0.1           42.18786         Cash   \n",
       "\n",
       "                  Bank Name  % Profit Margin  % Operating Cost  \\\n",
       "0           Enterprise Bank            0.150              0.15   \n",
       "1  Philippine Veterans Bank            0.118              0.15   \n",
       "2               BDO Unibank            0.147              0.15   \n",
       "3               BDO Unibank            0.095              0.15   \n",
       "4               BDO Unibank            0.120              0.15   \n",
       "\n",
       "   % Product Cost  Profit Margin  Operating Cost  Product Cost  \\\n",
       "0           0.700        1.85400          1.8540       8.65200   \n",
       "1           0.732        2.73760          3.4800      16.98240   \n",
       "2           0.703        1.95657          1.9965       9.35693   \n",
       "3           0.755        0.33440          0.5280       2.65760   \n",
       "4           0.730        0.52920          0.6615       3.21930   \n",
       "\n",
       "   Net Bill Amount Recalculation  Gross Bill Amount Recalculation  \n",
       "0                        12.1128                         13.32408  \n",
       "1                        22.9680                         25.26480  \n",
       "2                        13.1769                         14.49459  \n",
       "3                         3.4848                          3.83328  \n",
       "4                         4.3659                          4.80249  "
      ]
     },
     "execution_count": 14,
     "metadata": {},
     "output_type": "execute_result"
    }
   ],
   "source": [
    "df[:5]"
   ]
  },
  {
   "cell_type": "markdown",
   "id": "101661de",
   "metadata": {},
   "source": [
    "- перевірка чи є пропущені значення у наборі даних"
   ]
  },
  {
   "cell_type": "code",
   "execution_count": 15,
   "id": "36132b3b",
   "metadata": {
    "ExecuteTime": {
     "end_time": "2023-04-08T21:49:40.732491Z",
     "start_time": "2023-04-08T21:49:40.684318Z"
    },
    "scrolled": true
   },
   "outputs": [
    {
     "data": {
      "text/plain": [
       "Receipt Number                     0\n",
       "Date                               0\n",
       "Year                               0\n",
       "Month                              0\n",
       "Time                               0\n",
       "Mobile Number                      0\n",
       "Membership ID                      0\n",
       "Loyalty Card Points                0\n",
       "Age                                0\n",
       "Gender                             0\n",
       "City                               0\n",
       "Country                            0\n",
       "Category                           0\n",
       "Sub_Category                       0\n",
       "Items                              0\n",
       "Brand                              0\n",
       "Description                        0\n",
       "Price                              0\n",
       "QTY                                0\n",
       "DISC                               0\n",
       "Amount                             0\n",
       "Net Bill Amount                    0\n",
       "GST                                0\n",
       "Gross Bill Amount                  0\n",
       "Payment Mode                       0\n",
       "Bank Name                          0\n",
       "% Profit Margin                    0\n",
       "% Operating Cost                   0\n",
       "% Product Cost                     0\n",
       "Profit Margin                      0\n",
       "Operating Cost                     0\n",
       "Product Cost                       0\n",
       "Net Bill Amount Recalculation      0\n",
       "Gross Bill Amount Recalculation    0\n",
       "dtype: int64"
      ]
     },
     "execution_count": 15,
     "metadata": {},
     "output_type": "execute_result"
    }
   ],
   "source": [
    "df.isna().sum()"
   ]
  },
  {
   "cell_type": "markdown",
   "id": "254949e0",
   "metadata": {},
   "source": [
    "Пропущені значення відсутні."
   ]
  },
  {
   "cell_type": "markdown",
   "id": "31c6daf4",
   "metadata": {
    "ExecuteTime": {
     "end_time": "2023-04-06T17:24:41.519385Z",
     "start_time": "2023-04-06T17:24:41.506418Z"
    }
   },
   "source": [
    "- переглянемо типи даних у наборі даних"
   ]
  },
  {
   "cell_type": "code",
   "execution_count": 16,
   "id": "2dced150",
   "metadata": {
    "ExecuteTime": {
     "end_time": "2023-04-08T21:49:45.801030Z",
     "start_time": "2023-04-08T21:49:45.781084Z"
    },
    "scrolled": false
   },
   "outputs": [
    {
     "data": {
      "text/plain": [
       "Receipt Number                             object\n",
       "Date                               datetime64[ns]\n",
       "Year                                      float64\n",
       "Month                                     float64\n",
       "Time                                       object\n",
       "Mobile Number                             float64\n",
       "Membership ID                              object\n",
       "Loyalty Card Points                       float64\n",
       "Age                                       float64\n",
       "Gender                                     object\n",
       "City                                       object\n",
       "Country                                    object\n",
       "Category                                   object\n",
       "Sub_Category                               object\n",
       "Items                                      object\n",
       "Brand                                      object\n",
       "Description                                object\n",
       "Price                                     float64\n",
       "QTY                                       float64\n",
       "DISC                                      float64\n",
       "Amount                                    float64\n",
       "Net Bill Amount                           float64\n",
       "GST                                       float64\n",
       "Gross Bill Amount                         float64\n",
       "Payment Mode                               object\n",
       "Bank Name                                  object\n",
       "% Profit Margin                           float64\n",
       "% Operating Cost                          float64\n",
       "% Product Cost                            float64\n",
       "Profit Margin                             float64\n",
       "Operating Cost                            float64\n",
       "Product Cost                              float64\n",
       "Net Bill Amount Recalculation             float64\n",
       "Gross Bill Amount Recalculation           float64\n",
       "dtype: object"
      ]
     },
     "execution_count": 16,
     "metadata": {},
     "output_type": "execute_result"
    }
   ],
   "source": [
    "df.dtypes"
   ]
  },
  {
   "cell_type": "markdown",
   "id": "d05443e4",
   "metadata": {},
   "source": [
    "Змінемо тип даних я деяких колонках, наприклад, Year, Month на int64."
   ]
  },
  {
   "cell_type": "code",
   "execution_count": 17,
   "id": "7fbc396c",
   "metadata": {
    "ExecuteTime": {
     "end_time": "2023-04-08T21:49:51.931036Z",
     "start_time": "2023-04-08T21:49:51.915079Z"
    }
   },
   "outputs": [],
   "source": [
    "df = df.astype({'Year': 'int64', 'Month': 'int64', 'Loyalty Card Points' : 'int64', 'Age' : 'int64', 'QTY' : 'int64'})"
   ]
  },
  {
   "cell_type": "code",
   "execution_count": 18,
   "id": "cb0e5892",
   "metadata": {
    "ExecuteTime": {
     "end_time": "2023-04-08T21:49:52.664447Z",
     "start_time": "2023-04-08T21:49:52.654473Z"
    }
   },
   "outputs": [
    {
     "data": {
      "text/plain": [
       "Receipt Number                             object\n",
       "Date                               datetime64[ns]\n",
       "Year                                        int64\n",
       "Month                                       int64\n",
       "Time                                       object\n",
       "Mobile Number                             float64\n",
       "Membership ID                              object\n",
       "Loyalty Card Points                         int64\n",
       "Age                                         int64\n",
       "Gender                                     object\n",
       "City                                       object\n",
       "Country                                    object\n",
       "Category                                   object\n",
       "Sub_Category                               object\n",
       "Items                                      object\n",
       "Brand                                      object\n",
       "Description                                object\n",
       "Price                                     float64\n",
       "QTY                                         int64\n",
       "DISC                                      float64\n",
       "Amount                                    float64\n",
       "Net Bill Amount                           float64\n",
       "GST                                       float64\n",
       "Gross Bill Amount                         float64\n",
       "Payment Mode                               object\n",
       "Bank Name                                  object\n",
       "% Profit Margin                           float64\n",
       "% Operating Cost                          float64\n",
       "% Product Cost                            float64\n",
       "Profit Margin                             float64\n",
       "Operating Cost                            float64\n",
       "Product Cost                              float64\n",
       "Net Bill Amount Recalculation             float64\n",
       "Gross Bill Amount Recalculation           float64\n",
       "dtype: object"
      ]
     },
     "execution_count": 18,
     "metadata": {},
     "output_type": "execute_result"
    }
   ],
   "source": [
    "df.dtypes"
   ]
  },
  {
   "cell_type": "markdown",
   "id": "a521ac32",
   "metadata": {},
   "source": [
    "- змінимо відображення кількості цифр після коми до 3 та розглянемо статистичні показники даних"
   ]
  },
  {
   "cell_type": "code",
   "execution_count": 19,
   "id": "c27a83d5",
   "metadata": {
    "ExecuteTime": {
     "end_time": "2023-04-08T21:49:57.020010Z",
     "start_time": "2023-04-08T21:49:56.930215Z"
    }
   },
   "outputs": [
    {
     "data": {
      "text/html": [
       "<div>\n",
       "<style scoped>\n",
       "    .dataframe tbody tr th:only-of-type {\n",
       "        vertical-align: middle;\n",
       "    }\n",
       "\n",
       "    .dataframe tbody tr th {\n",
       "        vertical-align: top;\n",
       "    }\n",
       "\n",
       "    .dataframe thead th {\n",
       "        text-align: right;\n",
       "    }\n",
       "</style>\n",
       "<table border=\"1\" class=\"dataframe\">\n",
       "  <thead>\n",
       "    <tr style=\"text-align: right;\">\n",
       "      <th></th>\n",
       "      <th>Year</th>\n",
       "      <th>Month</th>\n",
       "      <th>Mobile Number</th>\n",
       "      <th>Loyalty Card Points</th>\n",
       "      <th>Age</th>\n",
       "      <th>Price</th>\n",
       "      <th>QTY</th>\n",
       "      <th>DISC</th>\n",
       "      <th>Amount</th>\n",
       "      <th>Net Bill Amount</th>\n",
       "      <th>GST</th>\n",
       "      <th>Gross Bill Amount</th>\n",
       "      <th>% Profit Margin</th>\n",
       "      <th>% Operating Cost</th>\n",
       "      <th>% Product Cost</th>\n",
       "      <th>Profit Margin</th>\n",
       "      <th>Operating Cost</th>\n",
       "      <th>Product Cost</th>\n",
       "      <th>Net Bill Amount Recalculation</th>\n",
       "      <th>Gross Bill Amount Recalculation</th>\n",
       "    </tr>\n",
       "  </thead>\n",
       "  <tbody>\n",
       "    <tr>\n",
       "      <th>count</th>\n",
       "      <td>50447.000</td>\n",
       "      <td>50447.000</td>\n",
       "      <td>5.045e+04</td>\n",
       "      <td>50447.000</td>\n",
       "      <td>50447.000</td>\n",
       "      <td>50447.000</td>\n",
       "      <td>50447.000</td>\n",
       "      <td>50447.000</td>\n",
       "      <td>50447.000</td>\n",
       "      <td>50447.000</td>\n",
       "      <td>50447.000</td>\n",
       "      <td>50447.000</td>\n",
       "      <td>50447.000</td>\n",
       "      <td>5.045e+04</td>\n",
       "      <td>50447.000</td>\n",
       "      <td>50447.000</td>\n",
       "      <td>50447.000</td>\n",
       "      <td>50447.000</td>\n",
       "      <td>50447.000</td>\n",
       "      <td>50447.000</td>\n",
       "    </tr>\n",
       "    <tr>\n",
       "      <th>mean</th>\n",
       "      <td>2017.668</td>\n",
       "      <td>6.477</td>\n",
       "      <td>9.894e+09</td>\n",
       "      <td>18.364</td>\n",
       "      <td>35.802</td>\n",
       "      <td>7.424</td>\n",
       "      <td>1.548</td>\n",
       "      <td>0.030</td>\n",
       "      <td>11.168</td>\n",
       "      <td>66.695</td>\n",
       "      <td>0.086</td>\n",
       "      <td>72.379</td>\n",
       "      <td>0.106</td>\n",
       "      <td>1.500e-01</td>\n",
       "      <td>0.744</td>\n",
       "      <td>1.202</td>\n",
       "      <td>1.727</td>\n",
       "      <td>8.584</td>\n",
       "      <td>11.168</td>\n",
       "      <td>12.120</td>\n",
       "    </tr>\n",
       "    <tr>\n",
       "      <th>std</th>\n",
       "      <td>1.112</td>\n",
       "      <td>3.454</td>\n",
       "      <td>7.636e+07</td>\n",
       "      <td>16.161</td>\n",
       "      <td>14.020</td>\n",
       "      <td>4.754</td>\n",
       "      <td>0.648</td>\n",
       "      <td>0.014</td>\n",
       "      <td>9.227</td>\n",
       "      <td>45.270</td>\n",
       "      <td>0.024</td>\n",
       "      <td>49.094</td>\n",
       "      <td>0.029</td>\n",
       "      <td>1.321e-13</td>\n",
       "      <td>0.029</td>\n",
       "      <td>1.064</td>\n",
       "      <td>1.427</td>\n",
       "      <td>7.135</td>\n",
       "      <td>9.227</td>\n",
       "      <td>10.004</td>\n",
       "    </tr>\n",
       "    <tr>\n",
       "      <th>min</th>\n",
       "      <td>2016.000</td>\n",
       "      <td>1.000</td>\n",
       "      <td>7.920e+09</td>\n",
       "      <td>0.000</td>\n",
       "      <td>15.000</td>\n",
       "      <td>0.840</td>\n",
       "      <td>1.000</td>\n",
       "      <td>0.010</td>\n",
       "      <td>0.798</td>\n",
       "      <td>0.978</td>\n",
       "      <td>0.060</td>\n",
       "      <td>1.037</td>\n",
       "      <td>0.051</td>\n",
       "      <td>1.500e-01</td>\n",
       "      <td>0.700</td>\n",
       "      <td>0.068</td>\n",
       "      <td>0.126</td>\n",
       "      <td>0.610</td>\n",
       "      <td>0.798</td>\n",
       "      <td>0.846</td>\n",
       "    </tr>\n",
       "    <tr>\n",
       "      <th>25%</th>\n",
       "      <td>2017.000</td>\n",
       "      <td>3.000</td>\n",
       "      <td>9.839e+09</td>\n",
       "      <td>6.000</td>\n",
       "      <td>23.000</td>\n",
       "      <td>4.280</td>\n",
       "      <td>1.000</td>\n",
       "      <td>0.020</td>\n",
       "      <td>5.214</td>\n",
       "      <td>35.328</td>\n",
       "      <td>0.070</td>\n",
       "      <td>38.616</td>\n",
       "      <td>0.083</td>\n",
       "      <td>1.500e-01</td>\n",
       "      <td>0.722</td>\n",
       "      <td>0.546</td>\n",
       "      <td>0.805</td>\n",
       "      <td>4.083</td>\n",
       "      <td>5.214</td>\n",
       "      <td>5.670</td>\n",
       "    </tr>\n",
       "    <tr>\n",
       "      <th>50%</th>\n",
       "      <td>2018.000</td>\n",
       "      <td>7.000</td>\n",
       "      <td>9.897e+09</td>\n",
       "      <td>14.000</td>\n",
       "      <td>35.000</td>\n",
       "      <td>5.980</td>\n",
       "      <td>2.000</td>\n",
       "      <td>0.030</td>\n",
       "      <td>8.633</td>\n",
       "      <td>58.586</td>\n",
       "      <td>0.070</td>\n",
       "      <td>63.909</td>\n",
       "      <td>0.109</td>\n",
       "      <td>1.500e-01</td>\n",
       "      <td>0.741</td>\n",
       "      <td>0.928</td>\n",
       "      <td>1.329</td>\n",
       "      <td>6.649</td>\n",
       "      <td>8.633</td>\n",
       "      <td>9.380</td>\n",
       "    </tr>\n",
       "    <tr>\n",
       "      <th>75%</th>\n",
       "      <td>2019.000</td>\n",
       "      <td>10.000</td>\n",
       "      <td>9.950e+09</td>\n",
       "      <td>26.000</td>\n",
       "      <td>47.000</td>\n",
       "      <td>9.470</td>\n",
       "      <td>2.000</td>\n",
       "      <td>0.040</td>\n",
       "      <td>14.016</td>\n",
       "      <td>90.585</td>\n",
       "      <td>0.100</td>\n",
       "      <td>98.076</td>\n",
       "      <td>0.128</td>\n",
       "      <td>1.500e-01</td>\n",
       "      <td>0.767</td>\n",
       "      <td>1.505</td>\n",
       "      <td>2.178</td>\n",
       "      <td>10.829</td>\n",
       "      <td>14.016</td>\n",
       "      <td>15.194</td>\n",
       "    </tr>\n",
       "    <tr>\n",
       "      <th>max</th>\n",
       "      <td>2019.000</td>\n",
       "      <td>12.000</td>\n",
       "      <td>1.000e+10</td>\n",
       "      <td>116.000</td>\n",
       "      <td>75.000</td>\n",
       "      <td>40.330</td>\n",
       "      <td>9.000</td>\n",
       "      <td>0.050</td>\n",
       "      <td>299.827</td>\n",
       "      <td>527.668</td>\n",
       "      <td>0.120</td>\n",
       "      <td>559.328</td>\n",
       "      <td>0.150</td>\n",
       "      <td>1.500e-01</td>\n",
       "      <td>0.799</td>\n",
       "      <td>26.235</td>\n",
       "      <td>46.848</td>\n",
       "      <td>239.237</td>\n",
       "      <td>299.827</td>\n",
       "      <td>317.817</td>\n",
       "    </tr>\n",
       "  </tbody>\n",
       "</table>\n",
       "</div>"
      ],
      "text/plain": [
       "            Year      Month  Mobile Number  Loyalty Card Points        Age  \\\n",
       "count  50447.000  50447.000      5.045e+04            50447.000  50447.000   \n",
       "mean    2017.668      6.477      9.894e+09               18.364     35.802   \n",
       "std        1.112      3.454      7.636e+07               16.161     14.020   \n",
       "min     2016.000      1.000      7.920e+09                0.000     15.000   \n",
       "25%     2017.000      3.000      9.839e+09                6.000     23.000   \n",
       "50%     2018.000      7.000      9.897e+09               14.000     35.000   \n",
       "75%     2019.000     10.000      9.950e+09               26.000     47.000   \n",
       "max     2019.000     12.000      1.000e+10              116.000     75.000   \n",
       "\n",
       "           Price        QTY       DISC     Amount  Net Bill Amount        GST  \\\n",
       "count  50447.000  50447.000  50447.000  50447.000        50447.000  50447.000   \n",
       "mean       7.424      1.548      0.030     11.168           66.695      0.086   \n",
       "std        4.754      0.648      0.014      9.227           45.270      0.024   \n",
       "min        0.840      1.000      0.010      0.798            0.978      0.060   \n",
       "25%        4.280      1.000      0.020      5.214           35.328      0.070   \n",
       "50%        5.980      2.000      0.030      8.633           58.586      0.070   \n",
       "75%        9.470      2.000      0.040     14.016           90.585      0.100   \n",
       "max       40.330      9.000      0.050    299.827          527.668      0.120   \n",
       "\n",
       "       Gross Bill Amount  % Profit Margin  % Operating Cost  % Product Cost  \\\n",
       "count          50447.000        50447.000         5.045e+04       50447.000   \n",
       "mean              72.379            0.106         1.500e-01           0.744   \n",
       "std               49.094            0.029         1.321e-13           0.029   \n",
       "min                1.037            0.051         1.500e-01           0.700   \n",
       "25%               38.616            0.083         1.500e-01           0.722   \n",
       "50%               63.909            0.109         1.500e-01           0.741   \n",
       "75%               98.076            0.128         1.500e-01           0.767   \n",
       "max              559.328            0.150         1.500e-01           0.799   \n",
       "\n",
       "       Profit Margin  Operating Cost  Product Cost  \\\n",
       "count      50447.000       50447.000     50447.000   \n",
       "mean           1.202           1.727         8.584   \n",
       "std            1.064           1.427         7.135   \n",
       "min            0.068           0.126         0.610   \n",
       "25%            0.546           0.805         4.083   \n",
       "50%            0.928           1.329         6.649   \n",
       "75%            1.505           2.178        10.829   \n",
       "max           26.235          46.848       239.237   \n",
       "\n",
       "       Net Bill Amount Recalculation  Gross Bill Amount Recalculation  \n",
       "count                      50447.000                        50447.000  \n",
       "mean                          11.168                           12.120  \n",
       "std                            9.227                           10.004  \n",
       "min                            0.798                            0.846  \n",
       "25%                            5.214                            5.670  \n",
       "50%                            8.633                            9.380  \n",
       "75%                           14.016                           15.194  \n",
       "max                          299.827                          317.817  "
      ]
     },
     "metadata": {},
     "output_type": "display_data"
    }
   ],
   "source": [
    "with pd.option_context('display.precision', 3):\n",
    "    display(df.describe())"
   ]
  },
  {
   "cell_type": "markdown",
   "id": "62c3c73e",
   "metadata": {},
   "source": [
    "Співставляючи максимальне значення та 75 персентиль по показнику Profit Margin можемо побачити, що 25% даних знаходяться між 1,505 і 26 236. Дані мають дочить великий розкид після значення показника 1,505."
   ]
  },
  {
   "cell_type": "markdown",
   "id": "a842594c",
   "metadata": {},
   "source": [
    "Імпортуємо необхідні бібліотеки для подальшої роботи з даними та візуалізації."
   ]
  },
  {
   "cell_type": "code",
   "execution_count": 20,
   "id": "260ec8cc",
   "metadata": {
    "ExecuteTime": {
     "end_time": "2023-04-08T21:50:17.927728Z",
     "start_time": "2023-04-08T21:50:16.798877Z"
    }
   },
   "outputs": [],
   "source": [
    "import numpy as np\n",
    "import matplotlib.pyplot as plt\n",
    "import seaborn as sns"
   ]
  },
  {
   "cell_type": "markdown",
   "id": "88244489",
   "metadata": {},
   "source": [
    "**1 Питання.** Розглянемо які країни та міста представлені у наборі даних та який прибуток вони згенерували за час своєї роботи?"
   ]
  },
  {
   "cell_type": "code",
   "execution_count": 21,
   "id": "5d805afe",
   "metadata": {
    "ExecuteTime": {
     "end_time": "2023-04-08T21:50:21.251294Z",
     "start_time": "2023-04-08T21:50:21.235337Z"
    }
   },
   "outputs": [
    {
     "data": {
      "text/plain": [
       "Country      City        \n",
       "Indonesia    Jakarta         11068.59512\n",
       "Malaysia     Kuala Lumpur    12958.11534\n",
       "Philippines  Manila          14455.63346\n",
       "Singapore    Bedok           14649.59575\n",
       "             Woodlands        7489.29808\n",
       "Name: Profit Margin, dtype: float64"
      ]
     },
     "execution_count": 21,
     "metadata": {},
     "output_type": "execute_result"
    }
   ],
   "source": [
    "df.groupby(['Country', 'City'])['Profit Margin'].sum()"
   ]
  },
  {
   "cell_type": "markdown",
   "id": "c07ecef9",
   "metadata": {},
   "source": [
    "Висновок: Максимальний прибуток було згенеровано у Філіпінах та Сінгапурі. Місто Woodlands має найменший прибуток. Можливо це менше місто та там здійснюється менша кількість покупок, або у цьому місті магазини працюють не з 2016 року, а пізніше."
   ]
  },
  {
   "cell_type": "markdown",
   "id": "f6c77df4",
   "metadata": {},
   "source": [
    "**2 Питання.** Яка кількість клієнтів здійнює покупки у мережі магазинів?"
   ]
  },
  {
   "cell_type": "code",
   "execution_count": 22,
   "id": "f0689536",
   "metadata": {
    "ExecuteTime": {
     "end_time": "2023-04-08T21:50:29.077418Z",
     "start_time": "2023-04-08T21:50:29.059466Z"
    }
   },
   "outputs": [
    {
     "name": "stdout",
     "output_type": "stream",
     "text": [
      "2601 - кількість покупців у мережі магазинів\n"
     ]
    }
   ],
   "source": [
    "customers = df['Membership ID'].unique()\n",
    "print(f'{len(customers)} - кількість покупців у мережі магазинів')"
   ]
  },
  {
   "cell_type": "markdown",
   "id": "e4ca99d1",
   "metadata": {},
   "source": [
    "**3 Питання.** Переглянемо яке податкове навантаження в середньому по країнах?"
   ]
  },
  {
   "cell_type": "code",
   "execution_count": 23,
   "id": "b81dc7b5",
   "metadata": {
    "ExecuteTime": {
     "end_time": "2023-04-08T21:50:35.016024Z",
     "start_time": "2023-04-08T21:50:35.005031Z"
    },
    "scrolled": true
   },
   "outputs": [
    {
     "data": {
      "text/plain": [
       "Country\n",
       "Indonesia      0.10\n",
       "Malaysia       0.06\n",
       "Philippines    0.12\n",
       "Singapore      0.07\n",
       "Name: GST, dtype: float64"
      ]
     },
     "execution_count": 23,
     "metadata": {},
     "output_type": "execute_result"
    }
   ],
   "source": [
    "df.groupby('Country').GST.mean()"
   ]
  },
  {
   "cell_type": "markdown",
   "id": "0ca47f46",
   "metadata": {},
   "source": [
    "Висновок: Найнижчі податки мають Сінгапур та Малайзія , найвищі податки у Філіпінах."
   ]
  },
  {
   "cell_type": "markdown",
   "id": "7748d5a8",
   "metadata": {},
   "source": [
    "**4 Питання.** Переглянемо динаміку прибутку по роках по містах. Чи має показник прибутку позитивну тенденцію? Сформуємо зведену таблицю та на її основі побудуємо лінійні графіки."
   ]
  },
  {
   "cell_type": "code",
   "execution_count": 24,
   "id": "ef1a241d",
   "metadata": {
    "ExecuteTime": {
     "end_time": "2023-04-08T21:50:39.889419Z",
     "start_time": "2023-04-08T21:50:39.858463Z"
    }
   },
   "outputs": [],
   "source": [
    "profit_margin_pivot = df.pivot_table(index = 'Year', columns = 'Country', values = 'Profit Margin', aggfunc = 'sum')"
   ]
  },
  {
   "cell_type": "code",
   "execution_count": 25,
   "id": "14f73788",
   "metadata": {
    "ExecuteTime": {
     "end_time": "2023-04-08T21:50:40.712731Z",
     "start_time": "2023-04-08T21:50:40.704724Z"
    },
    "scrolled": true
   },
   "outputs": [
    {
     "data": {
      "text/html": [
       "<div>\n",
       "<style scoped>\n",
       "    .dataframe tbody tr th:only-of-type {\n",
       "        vertical-align: middle;\n",
       "    }\n",
       "\n",
       "    .dataframe tbody tr th {\n",
       "        vertical-align: top;\n",
       "    }\n",
       "\n",
       "    .dataframe thead th {\n",
       "        text-align: right;\n",
       "    }\n",
       "</style>\n",
       "<table border=\"1\" class=\"dataframe\">\n",
       "  <thead>\n",
       "    <tr style=\"text-align: right;\">\n",
       "      <th>Country</th>\n",
       "      <th>Indonesia</th>\n",
       "      <th>Malaysia</th>\n",
       "      <th>Philippines</th>\n",
       "      <th>Singapore</th>\n",
       "    </tr>\n",
       "    <tr>\n",
       "      <th>Year</th>\n",
       "      <th></th>\n",
       "      <th></th>\n",
       "      <th></th>\n",
       "      <th></th>\n",
       "    </tr>\n",
       "  </thead>\n",
       "  <tbody>\n",
       "    <tr>\n",
       "      <th>2016</th>\n",
       "      <td>2395.58095</td>\n",
       "      <td>2558.09853</td>\n",
       "      <td>2621.04384</td>\n",
       "      <td>4746.33830</td>\n",
       "    </tr>\n",
       "    <tr>\n",
       "      <th>2017</th>\n",
       "      <td>2600.09893</td>\n",
       "      <td>2863.73544</td>\n",
       "      <td>3221.41375</td>\n",
       "      <td>5034.04354</td>\n",
       "    </tr>\n",
       "    <tr>\n",
       "      <th>2018</th>\n",
       "      <td>2812.78110</td>\n",
       "      <td>3400.27354</td>\n",
       "      <td>3852.59818</td>\n",
       "      <td>5724.53548</td>\n",
       "    </tr>\n",
       "    <tr>\n",
       "      <th>2019</th>\n",
       "      <td>3260.13414</td>\n",
       "      <td>4136.00783</td>\n",
       "      <td>4760.57769</td>\n",
       "      <td>6633.97651</td>\n",
       "    </tr>\n",
       "  </tbody>\n",
       "</table>\n",
       "</div>"
      ],
      "text/plain": [
       "Country   Indonesia    Malaysia  Philippines   Singapore\n",
       "Year                                                    \n",
       "2016     2395.58095  2558.09853   2621.04384  4746.33830\n",
       "2017     2600.09893  2863.73544   3221.41375  5034.04354\n",
       "2018     2812.78110  3400.27354   3852.59818  5724.53548\n",
       "2019     3260.13414  4136.00783   4760.57769  6633.97651"
      ]
     },
     "execution_count": 25,
     "metadata": {},
     "output_type": "execute_result"
    }
   ],
   "source": [
    "profit_margin_pivot"
   ]
  },
  {
   "cell_type": "code",
   "execution_count": 26,
   "id": "2b0f37d5",
   "metadata": {
    "ExecuteTime": {
     "end_time": "2023-04-08T21:50:41.866385Z",
     "start_time": "2023-04-08T21:50:41.642387Z"
    }
   },
   "outputs": [
    {
     "data": {
      "image/png": "[encoded data removed]",
      "text/plain": [
       "<Figure size 640x480 with 1 Axes>"
      ]
     },
     "metadata": {},
     "output_type": "display_data"
    }
   ],
   "source": [
    "profit_margin_pivot.plot();"
   ]
  },
  {
   "cell_type": "markdown",
   "id": "8831270d",
   "metadata": {
    "ExecuteTime": {
     "end_time": "2023-04-06T18:52:58.237567Z",
     "start_time": "2023-04-06T18:52:58.223029Z"
    }
   },
   "source": [
    "Висновок: Бачимо позитивну динаміку росту прибутку по всіх містах протягом аналізованого періоду."
   ]
  },
  {
   "cell_type": "markdown",
   "id": "debc4b9e",
   "metadata": {},
   "source": [
    "**5 Питання.** Розглянемо яка вікова група купує найбільше (генерує більший прибуток)?"
   ]
  },
  {
   "cell_type": "code",
   "execution_count": 27,
   "id": "e44ef2c4",
   "metadata": {
    "ExecuteTime": {
     "end_time": "2023-04-08T21:50:44.463481Z",
     "start_time": "2023-04-08T21:50:44.443499Z"
    }
   },
   "outputs": [],
   "source": [
    "age_profit = df.groupby('Age')['Profit Margin'].sum()"
   ]
  },
  {
   "cell_type": "code",
   "execution_count": 28,
   "id": "80b0de5d",
   "metadata": {
    "ExecuteTime": {
     "end_time": "2023-04-08T21:50:45.158034Z",
     "start_time": "2023-04-08T21:50:45.151053Z"
    }
   },
   "outputs": [],
   "source": [
    "age_profit_2 = age_profit.sort_values(ascending=False)"
   ]
  },
  {
   "cell_type": "code",
   "execution_count": 29,
   "id": "2b3f30f1",
   "metadata": {
    "ExecuteTime": {
     "end_time": "2023-04-08T21:50:45.835484Z",
     "start_time": "2023-04-08T21:50:45.816500Z"
    },
    "scrolled": true
   },
   "outputs": [
    {
     "data": {
      "text/plain": [
       "Age\n",
       "20    2454.08874\n",
       "18    2015.22158\n",
       "19    1980.02607\n",
       "17    1905.06563\n",
       "16    1745.07594\n",
       "26    1729.59241\n",
       "51    1643.11082\n",
       "36    1639.91587\n",
       "47    1624.21254\n",
       "38    1601.86028\n",
       "28    1591.69713\n",
       "25    1590.76816\n",
       "50    1586.04367\n",
       "45    1561.87010\n",
       "52    1484.89721\n",
       "22    1456.68001\n",
       "21    1444.60615\n",
       "24    1435.07279\n",
       "37    1383.74570\n",
       "48    1342.51204\n",
       "49    1341.80339\n",
       "55    1320.73380\n",
       "54    1319.98406\n",
       "41    1311.07346\n",
       "46    1309.82553\n",
       "31    1253.75622\n",
       "53    1227.90161\n",
       "15    1226.45099\n",
       "34    1225.15810\n",
       "35    1220.25657\n",
       "27    1211.55803\n",
       "44    1182.65686\n",
       "43    1165.89184\n",
       "39    1035.48603\n",
       "30    1027.23989\n",
       "33    1025.81478\n",
       "23    1011.81149\n",
       "32    1006.98914\n",
       "40     977.16305\n",
       "42     926.71753\n",
       "29     905.25574\n",
       "58     271.94871\n",
       "61     244.38126\n",
       "71     236.36888\n",
       "69     216.42608\n",
       "68     212.63862\n",
       "73     200.45495\n",
       "75     188.65330\n",
       "63     173.37826\n",
       "72     165.86324\n",
       "74     164.51207\n",
       "56     157.30672\n",
       "66     145.92835\n",
       "62     142.09255\n",
       "60     132.28590\n",
       "57     128.90504\n",
       "67     127.29890\n",
       "70      84.71508\n",
       "64      77.30584\n",
       "59      67.92211\n",
       "65      33.26094\n",
       "Name: Profit Margin, dtype: float64"
      ]
     },
     "execution_count": 29,
     "metadata": {},
     "output_type": "execute_result"
    }
   ],
   "source": [
    "age_profit_2"
   ]
  },
  {
   "cell_type": "markdown",
   "id": "327e8b35",
   "metadata": {},
   "source": [
    "Висновок: Найбільший прибуток отримується з покупок покупців молодшого та середнього віку."
   ]
  },
  {
   "cell_type": "markdown",
   "id": "22896986",
   "metadata": {},
   "source": [
    "**6 Питання.** Також розглянемо яка категорія покупців за статтю купує більше? Побудуємо лінійні графіки та порівняємо їх результат."
   ]
  },
  {
   "cell_type": "code",
   "execution_count": 30,
   "id": "194c6a5b",
   "metadata": {
    "ExecuteTime": {
     "end_time": "2023-04-08T21:50:52.031743Z",
     "start_time": "2023-04-08T21:50:49.768126Z"
    },
    "scrolled": false
   },
   "outputs": [
    {
     "data": {
      "image/png": "[encoded data removed]",
      "text/plain": [
       "<Figure size 640x480 with 1 Axes>"
      ]
     },
     "metadata": {},
     "output_type": "display_data"
    }
   ],
   "source": [
    "sns.lineplot(x = 'Age', y = 'Profit Margin', data = df, palette = 'flare', hue = 'Gender', estimator = 'sum');"
   ]
  },
  {
   "cell_type": "markdown",
   "id": "75a9eb8f",
   "metadata": {},
   "source": [
    "Висновок: З графіку чітко видно, що набільше купують жінки молодшого та середнього віку."
   ]
  },
  {
   "cell_type": "markdown",
   "id": "ba3ea291",
   "metadata": {},
   "source": [
    "**7 Питання.** Дослідимо яка категорія продукції купується частіше? Виведемо топ-5 категорій."
   ]
  },
  {
   "cell_type": "code",
   "execution_count": 31,
   "id": "176f1b31",
   "metadata": {
    "ExecuteTime": {
     "end_time": "2023-04-08T21:50:56.880289Z",
     "start_time": "2023-04-08T21:50:56.869312Z"
    }
   },
   "outputs": [],
   "source": [
    "receipt_count = df.Category.value_counts(ascending=False)"
   ]
  },
  {
   "cell_type": "code",
   "execution_count": 32,
   "id": "796aab6a",
   "metadata": {
    "ExecuteTime": {
     "end_time": "2023-04-08T21:50:57.736926Z",
     "start_time": "2023-04-08T21:50:57.723953Z"
    }
   },
   "outputs": [
    {
     "data": {
      "text/plain": [
       "Bakery & Breakfast    6770\n",
       "Frozen                6393\n",
       "Beauty                5205\n",
       "Fruit & Vegetable     4370\n",
       "Pet Care              3465\n",
       "Name: Category, dtype: int64"
      ]
     },
     "execution_count": 32,
     "metadata": {},
     "output_type": "execute_result"
    }
   ],
   "source": [
    "receipt_count[:5]"
   ]
  },
  {
   "cell_type": "markdown",
   "id": "cb08f561",
   "metadata": {},
   "source": [
    "Висновок: Начастіше купують випічку та продукти до сніданку, заморожена продукція, косметичні засоби, овочі та фрукти, і товари для домашніх тварин."
   ]
  },
  {
   "cell_type": "markdown",
   "id": "9387fcb1",
   "metadata": {},
   "source": [
    "**8 Питання.** Порівняємо яку категорію продукції купують найчастіше та яка категорія має найбільші чеки після оподаткування? Чи співпадають категорії за даними показниками? Чи можливо є категорії які купуються рідше проте за рахунок високої ціни мають більший чек?"
   ]
  },
  {
   "cell_type": "code",
   "execution_count": 33,
   "id": "902e08e5",
   "metadata": {
    "ExecuteTime": {
     "end_time": "2023-04-08T21:51:01.756816Z",
     "start_time": "2023-04-08T21:51:01.730886Z"
    }
   },
   "outputs": [],
   "source": [
    "category_bills_pivot = df.pivot_table(index = 'Category', values = 'Gross Bill Amount Recalculation', aggfunc = {'Gross Bill Amount Recalculation' : 'sum', 'Category' : 'count'})"
   ]
  },
  {
   "cell_type": "code",
   "execution_count": 34,
   "id": "1cc35d6b",
   "metadata": {
    "ExecuteTime": {
     "end_time": "2023-04-08T21:51:02.587986Z",
     "start_time": "2023-04-08T21:51:02.571033Z"
    }
   },
   "outputs": [
    {
     "data": {
      "text/html": [
       "<div>\n",
       "<style scoped>\n",
       "    .dataframe tbody tr th:only-of-type {\n",
       "        vertical-align: middle;\n",
       "    }\n",
       "\n",
       "    .dataframe tbody tr th {\n",
       "        vertical-align: top;\n",
       "    }\n",
       "\n",
       "    .dataframe thead th {\n",
       "        text-align: right;\n",
       "    }\n",
       "</style>\n",
       "<table border=\"1\" class=\"dataframe\">\n",
       "  <thead>\n",
       "    <tr style=\"text-align: right;\">\n",
       "      <th></th>\n",
       "      <th>Category</th>\n",
       "      <th>Gross Bill Amount Recalculation</th>\n",
       "    </tr>\n",
       "    <tr>\n",
       "      <th>Category</th>\n",
       "      <th></th>\n",
       "      <th></th>\n",
       "    </tr>\n",
       "  </thead>\n",
       "  <tbody>\n",
       "    <tr>\n",
       "      <th>Beauty</th>\n",
       "      <td>5205</td>\n",
       "      <td>85924.148940</td>\n",
       "    </tr>\n",
       "    <tr>\n",
       "      <th>Frozen</th>\n",
       "      <td>6393</td>\n",
       "      <td>80618.811202</td>\n",
       "    </tr>\n",
       "    <tr>\n",
       "      <th>Bakery &amp; Breakfast</th>\n",
       "      <td>6770</td>\n",
       "      <td>57695.589605</td>\n",
       "    </tr>\n",
       "    <tr>\n",
       "      <th>Meat &amp; Seafood</th>\n",
       "      <td>2149</td>\n",
       "      <td>42271.487718</td>\n",
       "    </tr>\n",
       "    <tr>\n",
       "      <th>Fruit &amp; Vegetable</th>\n",
       "      <td>4370</td>\n",
       "      <td>39889.734593</td>\n",
       "    </tr>\n",
       "    <tr>\n",
       "      <th>Mother &amp; Baby</th>\n",
       "      <td>2064</td>\n",
       "      <td>39698.080756</td>\n",
       "    </tr>\n",
       "    <tr>\n",
       "      <th>Pet Care</th>\n",
       "      <td>3465</td>\n",
       "      <td>38765.745798</td>\n",
       "    </tr>\n",
       "    <tr>\n",
       "      <th>Dairy, Chilled &amp; Eggs</th>\n",
       "      <td>3381</td>\n",
       "      <td>38466.490427</td>\n",
       "    </tr>\n",
       "    <tr>\n",
       "      <th>Wines, Beers &amp; Spirits</th>\n",
       "      <td>1714</td>\n",
       "      <td>37596.340100</td>\n",
       "    </tr>\n",
       "    <tr>\n",
       "      <th>Beverages</th>\n",
       "      <td>2208</td>\n",
       "      <td>29348.143003</td>\n",
       "    </tr>\n",
       "    <tr>\n",
       "      <th>Choco, Snacks, Sweets</th>\n",
       "      <td>3019</td>\n",
       "      <td>28287.582452</td>\n",
       "    </tr>\n",
       "    <tr>\n",
       "      <th>Household</th>\n",
       "      <td>1881</td>\n",
       "      <td>27352.329838</td>\n",
       "    </tr>\n",
       "    <tr>\n",
       "      <th>Health</th>\n",
       "      <td>1008</td>\n",
       "      <td>22134.203154</td>\n",
       "    </tr>\n",
       "    <tr>\n",
       "      <th>Kitchen &amp; Dining</th>\n",
       "      <td>2552</td>\n",
       "      <td>15570.099220</td>\n",
       "    </tr>\n",
       "    <tr>\n",
       "      <th>Rice &amp; Cooking Essentials</th>\n",
       "      <td>2432</td>\n",
       "      <td>13943.475084</td>\n",
       "    </tr>\n",
       "    <tr>\n",
       "      <th>Party Supplies</th>\n",
       "      <td>1836</td>\n",
       "      <td>13842.816926</td>\n",
       "    </tr>\n",
       "  </tbody>\n",
       "</table>\n",
       "</div>"
      ],
      "text/plain": [
       "                           Category  Gross Bill Amount Recalculation\n",
       "Category                                                            \n",
       "Beauty                         5205                     85924.148940\n",
       "Frozen                         6393                     80618.811202\n",
       "Bakery & Breakfast             6770                     57695.589605\n",
       "Meat & Seafood                 2149                     42271.487718\n",
       "Fruit & Vegetable              4370                     39889.734593\n",
       "Mother & Baby                  2064                     39698.080756\n",
       "Pet Care                       3465                     38765.745798\n",
       "Dairy, Chilled & Eggs          3381                     38466.490427\n",
       "Wines, Beers & Spirits         1714                     37596.340100\n",
       "Beverages                      2208                     29348.143003\n",
       "Choco, Snacks, Sweets          3019                     28287.582452\n",
       "Household                      1881                     27352.329838\n",
       "Health                         1008                     22134.203154\n",
       "Kitchen & Dining               2552                     15570.099220\n",
       "Rice & Cooking Essentials      2432                     13943.475084\n",
       "Party Supplies                 1836                     13842.816926"
      ]
     },
     "execution_count": 34,
     "metadata": {},
     "output_type": "execute_result"
    }
   ],
   "source": [
    "category_bills_pivot.sort_values(by = 'Gross Bill Amount Recalculation', ascending = False)"
   ]
  },
  {
   "cell_type": "markdown",
   "id": "fedc43fc",
   "metadata": {},
   "source": [
    "Висновок: Бачимо, що 4 з 5 категорій які купуються частіше, також приносять більший дохід. Тобто варто продовжувати концентрувати свої зусилля над просуванням та продажем цих категорій продукцції. Також варто звернути увагу на категорію м'ясних та морепродуктів. Ця категорія купується рідше, проте у загальному підсумку має високі чеки. Варто просувати цю категорію."
   ]
  },
  {
   "cell_type": "markdown",
   "id": "acbc0358",
   "metadata": {
    "ExecuteTime": {
     "end_time": "2023-04-08T19:52:41.244462Z",
     "start_time": "2023-04-08T19:52:41.236444Z"
    }
   },
   "source": [
    "**9 Питання.** Переглянемо які середні чеки до оподаткування кожної підкатегорії у категорії краси та догляду ? Побудуємо кругову діаграму та переглянему структуру."
   ]
  },
  {
   "cell_type": "code",
   "execution_count": 35,
   "id": "02868037",
   "metadata": {
    "ExecuteTime": {
     "end_time": "2023-04-08T21:51:08.385923Z",
     "start_time": "2023-04-08T21:51:08.370963Z"
    }
   },
   "outputs": [],
   "source": [
    "beaty_net_bill = df[df['Category'] == 'Beauty'].groupby('Sub_Category')['Net Bill Amount Recalculation'].sum()"
   ]
  },
  {
   "cell_type": "code",
   "execution_count": 36,
   "id": "ecd3ab05",
   "metadata": {
    "ExecuteTime": {
     "end_time": "2023-04-08T21:51:09.032574Z",
     "start_time": "2023-04-08T21:51:09.020578Z"
    },
    "scrolled": true
   },
   "outputs": [
    {
     "data": {
      "text/plain": [
       "Sub_Category\n",
       "Bath & Body    10590.4719\n",
       "Oral Care      30877.1911\n",
       "skin care      37717.9293\n",
       "Name: Net Bill Amount Recalculation, dtype: float64"
      ]
     },
     "execution_count": 36,
     "metadata": {},
     "output_type": "execute_result"
    }
   ],
   "source": [
    "beaty_net_bill"
   ]
  },
  {
   "cell_type": "code",
   "execution_count": 37,
   "id": "1c08e695",
   "metadata": {
    "ExecuteTime": {
     "end_time": "2023-04-08T21:51:10.556263Z",
     "start_time": "2023-04-08T21:51:10.427790Z"
    }
   },
   "outputs": [
    {
     "data": {
      "image/png": "[encoded data removed]",
      "text/plain": [
       "<Figure size 640x480 with 1 Axes>"
      ]
     },
     "metadata": {},
     "output_type": "display_data"
    }
   ],
   "source": [
    "plt.pie(beaty_net_bill, autopct = '%1.2f%%')\n",
    "plt.title('Структура товарів категорії Beauty')\n",
    "plt.legend(labels = ['Bath & Body', 'Oral Care', 'skin care']);"
   ]
  },
  {
   "cell_type": "markdown",
   "id": "2e5a61f3",
   "metadata": {},
   "source": [
    "Висновок: Найбільший чек у товарів по догляду за шкірою."
   ]
  },
  {
   "cell_type": "markdown",
   "id": "8252bbb4",
   "metadata": {
    "ExecuteTime": {
     "end_time": "2023-04-08T19:56:42.010982Z",
     "start_time": "2023-04-08T19:56:41.996990Z"
    }
   },
   "source": [
    "**10 Питання.** Перегялнемо які товари мають найбільшу ціну? Виведемо топ-10 позицій."
   ]
  },
  {
   "cell_type": "code",
   "execution_count": 38,
   "id": "a13ee211",
   "metadata": {
    "ExecuteTime": {
     "end_time": "2023-04-08T21:51:15.673891Z",
     "start_time": "2023-04-08T21:51:15.647988Z"
    }
   },
   "outputs": [
    {
     "data": {
      "text/html": [
       "<div>\n",
       "<style scoped>\n",
       "    .dataframe tbody tr th:only-of-type {\n",
       "        vertical-align: middle;\n",
       "    }\n",
       "\n",
       "    .dataframe tbody tr th {\n",
       "        vertical-align: top;\n",
       "    }\n",
       "\n",
       "    .dataframe thead th {\n",
       "        text-align: right;\n",
       "    }\n",
       "</style>\n",
       "<table border=\"1\" class=\"dataframe\">\n",
       "  <thead>\n",
       "    <tr style=\"text-align: right;\">\n",
       "      <th></th>\n",
       "      <th>Items</th>\n",
       "      <th>Category</th>\n",
       "      <th>Price</th>\n",
       "    </tr>\n",
       "  </thead>\n",
       "  <tbody>\n",
       "    <tr>\n",
       "      <th>3943</th>\n",
       "      <td>Villa Sandi  imperial champagne</td>\n",
       "      <td>Wines, Beers &amp; Spirits</td>\n",
       "      <td>40.33</td>\n",
       "    </tr>\n",
       "    <tr>\n",
       "      <th>18446</th>\n",
       "      <td>Rothschild Cuvee brut champagne</td>\n",
       "      <td>Wines, Beers &amp; Spirits</td>\n",
       "      <td>40.07</td>\n",
       "    </tr>\n",
       "    <tr>\n",
       "      <th>19785</th>\n",
       "      <td>Bollinger Pink platted moscato rose</td>\n",
       "      <td>Wines, Beers &amp; Spirits</td>\n",
       "      <td>39.04</td>\n",
       "    </tr>\n",
       "    <tr>\n",
       "      <th>45108</th>\n",
       "      <td>Monster Energy Drink</td>\n",
       "      <td>Health</td>\n",
       "      <td>38.31</td>\n",
       "    </tr>\n",
       "    <tr>\n",
       "      <th>47466</th>\n",
       "      <td>Monster Energy Drink</td>\n",
       "      <td>Health</td>\n",
       "      <td>38.31</td>\n",
       "    </tr>\n",
       "    <tr>\n",
       "      <th>33416</th>\n",
       "      <td>Bottega Brut Champagne</td>\n",
       "      <td>Wines, Beers &amp; Spirits</td>\n",
       "      <td>37.37</td>\n",
       "    </tr>\n",
       "    <tr>\n",
       "      <th>22460</th>\n",
       "      <td>Monster Energy Drink</td>\n",
       "      <td>Health</td>\n",
       "      <td>36.99</td>\n",
       "    </tr>\n",
       "    <tr>\n",
       "      <th>29601</th>\n",
       "      <td>Monster Energy Drink</td>\n",
       "      <td>Health</td>\n",
       "      <td>36.99</td>\n",
       "    </tr>\n",
       "    <tr>\n",
       "      <th>28721</th>\n",
       "      <td>Monster Energy Drink</td>\n",
       "      <td>Health</td>\n",
       "      <td>36.99</td>\n",
       "    </tr>\n",
       "    <tr>\n",
       "      <th>11881</th>\n",
       "      <td>Monster Energy Drink</td>\n",
       "      <td>Health</td>\n",
       "      <td>36.99</td>\n",
       "    </tr>\n",
       "  </tbody>\n",
       "</table>\n",
       "</div>"
      ],
      "text/plain": [
       "                                     Items                Category  Price\n",
       "3943       Villa Sandi  imperial champagne  Wines, Beers & Spirits  40.33\n",
       "18446      Rothschild Cuvee brut champagne  Wines, Beers & Spirits  40.07\n",
       "19785  Bollinger Pink platted moscato rose  Wines, Beers & Spirits  39.04\n",
       "45108                 Monster Energy Drink                  Health  38.31\n",
       "47466                 Monster Energy Drink                  Health  38.31\n",
       "33416               Bottega Brut Champagne  Wines, Beers & Spirits  37.37\n",
       "22460                 Monster Energy Drink                  Health  36.99\n",
       "29601                 Monster Energy Drink                  Health  36.99\n",
       "28721                 Monster Energy Drink                  Health  36.99\n",
       "11881                 Monster Energy Drink                  Health  36.99"
      ]
     },
     "execution_count": 38,
     "metadata": {},
     "output_type": "execute_result"
    }
   ],
   "source": [
    "df[['Items', 'Category', 'Price']].sort_values(by = 'Price', ascending = False)[:10]"
   ]
  },
  {
   "cell_type": "markdown",
   "id": "faa86c5c",
   "metadata": {},
   "source": [
    "Висновок: Найдорожчими товарами є алкогольні вироби. Можливо варто надати якісь знижки або акційні пропозиції в яких прийматимуть участь дані позиції."
   ]
  },
  {
   "cell_type": "markdown",
   "id": "fca71b49",
   "metadata": {},
   "source": [
    "**11 Питання.** Розлянемо чи впливає на дохід фактор сезонності? Можливо покупки залежать від пори року."
   ]
  },
  {
   "cell_type": "code",
   "execution_count": 39,
   "id": "35ad64f1",
   "metadata": {
    "ExecuteTime": {
     "end_time": "2023-04-08T21:51:19.580963Z",
     "start_time": "2023-04-08T21:51:19.569961Z"
    }
   },
   "outputs": [],
   "source": [
    "month_bills = df.groupby('Month')['Gross Bill Amount Recalculation'].sum()"
   ]
  },
  {
   "cell_type": "code",
   "execution_count": 40,
   "id": "ee13a906",
   "metadata": {
    "ExecuteTime": {
     "end_time": "2023-04-08T21:51:20.355245Z",
     "start_time": "2023-04-08T21:51:20.339252Z"
    }
   },
   "outputs": [
    {
     "data": {
      "text/plain": [
       "Month\n",
       "12    63813.418212\n",
       "1     53087.018662\n",
       "7     52517.257210\n",
       "10    51752.721514\n",
       "5     51297.935513\n",
       "11    50901.333175\n",
       "3     50258.288951\n",
       "8     48651.297285\n",
       "9     48414.951792\n",
       "6     48163.077814\n",
       "2     46367.475310\n",
       "4     46180.303378\n",
       "Name: Gross Bill Amount Recalculation, dtype: float64"
      ]
     },
     "execution_count": 40,
     "metadata": {},
     "output_type": "execute_result"
    }
   ],
   "source": [
    "month_bills.sort_values(ascending = False)"
   ]
  },
  {
   "cell_type": "markdown",
   "id": "61e57fe5",
   "metadata": {},
   "source": [
    "Висновок: Чіткої сезонності у продажів не має. Найбільші продажі у грудні та січні, можливо це пов'язано з новорічними святами."
   ]
  },
  {
   "cell_type": "markdown",
   "id": "8b5804b6",
   "metadata": {},
   "source": [
    "**12 Питання.** Розглянемо які види розрахунків використовують покупці та які банки обслуговують операції?"
   ]
  },
  {
   "cell_type": "code",
   "execution_count": 41,
   "id": "7ed065e3",
   "metadata": {
    "ExecuteTime": {
     "end_time": "2023-04-08T21:51:24.713894Z",
     "start_time": "2023-04-08T21:51:23.454863Z"
    }
   },
   "outputs": [
    {
     "data": {
      "image/png": "[encoded data removed]",
      "text/plain": [
       "<Figure size 640x480 with 1 Axes>"
      ]
     },
     "metadata": {},
     "output_type": "display_data"
    }
   ],
   "source": [
    "sns.barplot(x = 'Gross Bill Amount Recalculation', y = 'Bank Name', data = df, palette = 'bright', hue = 'Payment Mode');"
   ]
  },
  {
   "cell_type": "markdown",
   "id": "d97e4f2d",
   "metadata": {},
   "source": [
    "Висновок: Покупці використовують різні платіжні системи. З деякими банками можна розширити спосіб розрахунку через гаманець (Philtrust Bank, Bank Central Asia). Загалом можна спонукати покупців до оплати онлайн та карткою, можливо варто створити програми знижок для розрахунку карткою або через гаманець."
   ]
  },
  {
   "cell_type": "markdown",
   "id": "5075ba85",
   "metadata": {},
   "source": [
    "**13 Питання.** Розглянемо як загалом сформовано дохід? Побудуємо гістрограму аби побачити які покупки приносять більше доходу?"
   ]
  },
  {
   "cell_type": "code",
   "execution_count": 42,
   "id": "44385779",
   "metadata": {
    "ExecuteTime": {
     "end_time": "2023-04-08T21:51:27.438008Z",
     "start_time": "2023-04-08T21:51:27.423027Z"
    }
   },
   "outputs": [],
   "source": [
    "income = df['Gross Bill Amount Recalculation'].to_numpy()"
   ]
  },
  {
   "cell_type": "code",
   "execution_count": 43,
   "id": "63802f3e",
   "metadata": {
    "ExecuteTime": {
     "end_time": "2023-04-08T21:51:29.555710Z",
     "start_time": "2023-04-08T21:51:29.412376Z"
    },
    "scrolled": false
   },
   "outputs": [
    {
     "data": {
      "image/png": "[encoded data removed]",
      "text/plain": [
       "<Figure size 640x480 with 1 Axes>"
      ]
     },
     "metadata": {},
     "output_type": "display_data"
    }
   ],
   "source": [
    "plt.hist(x = income, bins = 20, alpha = 0.5)\n",
    "plt.grid(axis = 'both', alpha = 0.5)\n",
    "plt.xlabel('Gross Bill Amount');"
   ]
  },
  {
   "cell_type": "markdown",
   "id": "e25366aa",
   "metadata": {},
   "source": [
    "Висновок: З гістограми видно, що більшу частину доходу формують товари з найменшою вартістю. Дороговартісні товари значно менше впливають на дохід."
   ]
  },
  {
   "cell_type": "markdown",
   "id": "f35520f1",
   "metadata": {
    "ExecuteTime": {
     "end_time": "2023-04-08T20:22:35.257171Z",
     "start_time": "2023-04-08T20:22:35.244172Z"
    },
    "scrolled": true
   },
   "source": [
    "**14 Питання.** Розглянемо розподіл прибутку по категоріях товарів, що мають найбільші продажі.Побудуємо наступний графік:"
   ]
  },
  {
   "cell_type": "code",
   "execution_count": 44,
   "id": "f5e367c4",
   "metadata": {
    "ExecuteTime": {
     "end_time": "2023-04-08T21:51:42.748092Z",
     "start_time": "2023-04-08T21:51:42.736149Z"
    }
   },
   "outputs": [],
   "source": [
    "category_list = ['Frozen', 'Beauty', 'Bakery & Breakfast']"
   ]
  },
  {
   "cell_type": "code",
   "execution_count": 45,
   "id": "89bb1c38",
   "metadata": {
    "ExecuteTime": {
     "end_time": "2023-04-08T21:51:45.673096Z",
     "start_time": "2023-04-08T21:51:45.259470Z"
    },
    "scrolled": false
   },
   "outputs": [
    {
     "data": {
      "image/png": "[encoded data removed]",
      "text/plain": [
       "<Figure size 640x480 with 1 Axes>"
      ]
     },
     "metadata": {},
     "output_type": "display_data"
    }
   ],
   "source": [
    "[sns.histplot(data = df[df['Category'] == i], x = 'Profit Margin', bins = 20, kde = True) for i in category_list]\n",
    "plt.legend(labels = ['Frozen', 'Beauty', 'Bakery & Breakfast'])\n",
    "plt.grid(axis = 'both', alpha = 0.5)\n",
    "plt.title('Distribution of profit by category');"
   ]
  },
  {
   "cell_type": "markdown",
   "id": "ccb7fb12",
   "metadata": {
    "ExecuteTime": {
     "end_time": "2023-04-08T20:30:17.665503Z",
     "start_time": "2023-04-08T20:30:17.647295Z"
    }
   },
   "source": [
    "Висновок: З графіку бачимо, що незважаючи на те, що більший дохід після оподаткування має категорія краси та догляду, проте більший прибуток отримується з категорії заморожені вироби."
   ]
  },
  {
   "cell_type": "markdown",
   "id": "0ab61bf9",
   "metadata": {
    "ExecuteTime": {
     "end_time": "2023-04-08T21:04:30.647727Z",
     "start_time": "2023-04-08T21:04:30.633765Z"
    }
   },
   "source": [
    "**15 Питання.** Бачимо, що категорія заморожені продукти явно має найбільший прибуток. Але наскільки відрізняються між собою категорії краси та догляду, та випічка та товари для сніданків? Гістограми схожі: одна більш висока та вужча, інша нижча та ширша. Дослідимо чи є статистично значущою різниця між прибутком, що отримується з цих категорій. Використаємо статистий тест z-test. Рівень статистичної значущості alpha = 0.05."
   ]
  },
  {
   "cell_type": "code",
   "execution_count": 46,
   "id": "611d4b6d",
   "metadata": {
    "ExecuteTime": {
     "end_time": "2023-04-08T21:51:51.115954Z",
     "start_time": "2023-04-08T21:51:51.095010Z"
    }
   },
   "outputs": [],
   "source": [
    "pivot_bakery = df[df.Category == 'Bakery & Breakfast'].pivot_table(index = 'Receipt Number', values = 'Profit Margin', aggfunc = 'sum' )"
   ]
  },
  {
   "cell_type": "code",
   "execution_count": 47,
   "id": "bfe39f5f",
   "metadata": {
    "ExecuteTime": {
     "end_time": "2023-04-08T21:51:52.820835Z",
     "start_time": "2023-04-08T21:51:52.807838Z"
    }
   },
   "outputs": [],
   "source": [
    "bakery = pivot_bakery.to_numpy()"
   ]
  },
  {
   "cell_type": "code",
   "execution_count": 48,
   "id": "f63f1cdd",
   "metadata": {
    "ExecuteTime": {
     "end_time": "2023-04-08T21:51:53.978846Z",
     "start_time": "2023-04-08T21:51:53.945894Z"
    }
   },
   "outputs": [],
   "source": [
    "pivot_beauty = df[df.Category == 'Beauty'].pivot_table(index = 'Receipt Number', values = 'Profit Margin', aggfunc = 'sum' )"
   ]
  },
  {
   "cell_type": "code",
   "execution_count": 49,
   "id": "64d38430",
   "metadata": {
    "ExecuteTime": {
     "end_time": "2023-04-08T21:51:54.964361Z",
     "start_time": "2023-04-08T21:51:54.946373Z"
    }
   },
   "outputs": [],
   "source": [
    "beauty = pivot_beauty.to_numpy()"
   ]
  },
  {
   "cell_type": "code",
   "execution_count": 50,
   "id": "de4aafe8",
   "metadata": {
    "ExecuteTime": {
     "end_time": "2023-04-08T21:51:56.632557Z",
     "start_time": "2023-04-08T21:51:56.627572Z"
    }
   },
   "outputs": [],
   "source": [
    "alpha = 0.05"
   ]
  },
  {
   "cell_type": "code",
   "execution_count": 51,
   "id": "50452d72",
   "metadata": {
    "ExecuteTime": {
     "end_time": "2023-04-08T21:51:59.644955Z",
     "start_time": "2023-04-08T21:51:59.615581Z"
    }
   },
   "outputs": [],
   "source": [
    "from statsmodels.stats.weightstats import ztest"
   ]
  },
  {
   "cell_type": "code",
   "execution_count": 52,
   "id": "c159be6a",
   "metadata": {
    "ExecuteTime": {
     "end_time": "2023-04-08T21:52:00.436225Z",
     "start_time": "2023-04-08T21:52:00.432235Z"
    }
   },
   "outputs": [],
   "source": [
    "# Нульова гіпотеза - прибуток по категорії випічка та товари для сніданків та категорії товарів для краси та догляду не відрізняється.\n",
    "# Альтернативна гіпотеза - прибуток по категорії випічка та товари для сніданків такатегорії товарів для краси та догляду суттєво відрізняється."
   ]
  },
  {
   "cell_type": "code",
   "execution_count": 53,
   "id": "db5af182",
   "metadata": {
    "ExecuteTime": {
     "end_time": "2023-04-08T21:52:01.211530Z",
     "start_time": "2023-04-08T21:52:01.195574Z"
    }
   },
   "outputs": [],
   "source": [
    "ztest_results = ztest(bakery, beauty, value = 0)"
   ]
  },
  {
   "cell_type": "code",
   "execution_count": 54,
   "id": "4407e019",
   "metadata": {
    "ExecuteTime": {
     "end_time": "2023-04-08T21:52:02.198426Z",
     "start_time": "2023-04-08T21:52:02.186460Z"
    }
   },
   "outputs": [
    {
     "data": {
      "text/plain": [
       "(array([-28.45770599]), array([3.91255306e-178]))"
      ]
     },
     "execution_count": 54,
     "metadata": {},
     "output_type": "execute_result"
    }
   ],
   "source": [
    "ztest_results"
   ]
  },
  {
   "cell_type": "code",
   "execution_count": 55,
   "id": "c221109a",
   "metadata": {
    "ExecuteTime": {
     "end_time": "2023-04-08T21:52:03.978749Z",
     "start_time": "2023-04-08T21:52:03.963750Z"
    }
   },
   "outputs": [
    {
     "name": "stdout",
     "output_type": "stream",
     "text": [
      "Відхиляємо гіпотезу Н0. Прибуток суттєво відрізняється\n"
     ]
    }
   ],
   "source": [
    "if (ztest_results[1] < alpha):\n",
    "    print('Відхиляємо гіпотезу Н0. Прибуток суттєво відрізняється')\n",
    "else:\n",
    "    print('Не можемо відхилити гіпотезу Н0. Прибуток не відрізняється.')"
   ]
  },
  {
   "cell_type": "code",
   "execution_count": 56,
   "id": "fb7c5a77",
   "metadata": {
    "ExecuteTime": {
     "end_time": "2023-04-08T21:52:06.875897Z",
     "start_time": "2023-04-08T21:52:06.864893Z"
    }
   },
   "outputs": [
    {
     "name": "stdout",
     "output_type": "stream",
     "text": [
      "Прибуток категорії випічка та товари для сніданків - 6224.72.\n",
      "Прибуток категорії товарів краси та догляlу - 7989.95.\n"
     ]
    }
   ],
   "source": [
    "print(f'Прибуток категорії випічка та товари для сніданків - {{:.2f}}.\\nПрибуток категорії товарів краси та догляlу - {{:.2f}}.'.format(bakery.sum(), beauty.sum()))"
   ]
  },
  {
   "cell_type": "markdown",
   "id": "dde08069",
   "metadata": {
    "ExecuteTime": {
     "end_time": "2023-04-07T21:12:01.414268Z",
     "start_time": "2023-04-07T21:12:01.398645Z"
    }
   },
   "source": [
    "Висновок: Отже, p-value є значно більшим ніж рівень суттєвості alpfa. Це в свою чергу означає, що слід відхилити нульову гіпотезу, що означає розбіжність у прибутках є суттєвою."
   ]
  },
  {
   "cell_type": "markdown",
   "id": "688458d9",
   "metadata": {},
   "source": [
    "**16 Питання.** Розглянемо чи є випадки коли якісь товари мають низьку собівартість, проте формують високий дохід, на навпаки - є товари з високою собівартістю, проте продаються у збиток, наприклад?\n",
    "Побудуємо регресійну модель та подивимось як розмістяться дані щодо лінії регресії, можливо будуть викиди."
   ]
  },
  {
   "cell_type": "code",
   "execution_count": 57,
   "id": "b641c7e1",
   "metadata": {
    "ExecuteTime": {
     "end_time": "2023-04-08T21:52:13.775568Z",
     "start_time": "2023-04-08T21:52:10.212281Z"
    },
    "scrolled": false
   },
   "outputs": [
    {
     "data": {
      "image/png": "[encoded data removed]",
      "text/plain": [
       "<Figure size 640x480 with 1 Axes>"
      ]
     },
     "metadata": {},
     "output_type": "display_data"
    }
   ],
   "source": [
    "sns.regplot(data = df, x = 'Net Bill Amount Recalculation', y = 'Product Cost', scatter_kws = {'alpha': 0.4}, line_kws = {'color': 'red'});"
   ]
  },
  {
   "cell_type": "markdown",
   "id": "bc8bb9f8",
   "metadata": {},
   "source": [
    "Висновок: Дані розміщені щільно по лінії регресії. Існує пряма залежність між вартістю товарів та доходу, що від них отримується. Викидів не має."
   ]
  }
 ],
 "metadata": {
  "kernelspec": {
   "display_name": "Python 3 (ipykernel)",
   "language": "python",
   "name": "python3"
  },
  "language_info": {
   "codemirror_mode": {
    "name": "ipython",
    "version": 3
   },
   "file_extension": ".py",
   "mimetype": "text/x-python",
   "name": "python",
   "nbconvert_exporter": "python",
   "pygments_lexer": "ipython3",
   "version": "3.7.5"
  },
  "toc": {
   "base_numbering": 1,
   "nav_menu": {},
   "number_sections": true,
   "sideBar": true,
   "skip_h1_title": false,
   "title_cell": "Table of Contents",
   "title_sidebar": "Contents",
   "toc_cell": false,
   "toc_position": {},
   "toc_section_display": true,
   "toc_window_display": false
  }
 },
 "nbformat": 4,
 "nbformat_minor": 5
}
