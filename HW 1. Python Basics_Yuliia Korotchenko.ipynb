{
 "cells": [
  {
   "cell_type": "markdown",
   "id": "08f1c51f",
   "metadata": {
    "pycharm": {
     "name": "#%% md\n"
    }
   },
   "source": [
    "# Домашнє завдання до теми \"Python Basics\"\n",
    "В цьому ДЗ важливою умовою виконання завдань є те, що ми не імпортуємо жодних бібліотек, а робимо все на чистому Python, використовуючи лише базовий функціонал. Це необхідно аби відпрацювати роботу з базовими типами даних. А використовувати бібліотеки ми ще навчимось далі :)"
   ]
  },
  {
   "cell_type": "markdown",
   "id": "676db6ee",
   "metadata": {
    "ExecuteTime": {
     "end_time": "2022-10-15T22:38:58.278123Z",
     "start_time": "2022-10-15T22:38:58.274895Z"
    },
    "pycharm": {
     "name": "#%% md\n"
    }
   },
   "source": [
    "# Робота з рядками"
   ]
  },
  {
   "cell_type": "markdown",
   "id": "60423850",
   "metadata": {
    "pycharm": {
     "name": "#%% md\n"
    }
   },
   "source": [
    "1.Запишіть у змінну `name` ваше імʼя."
   ]
  },
  {
   "cell_type": "code",
   "execution_count": 1,
   "id": "473006f4",
   "metadata": {
    "ExecuteTime": {
     "end_time": "2023-02-03T21:19:23.154143Z",
     "start_time": "2023-02-03T21:19:23.139217Z"
    },
    "pycharm": {
     "name": "#%%\n"
    }
   },
   "outputs": [],
   "source": [
    "name = 'Yuliia'"
   ]
  },
  {
   "cell_type": "markdown",
   "id": "4b3acd9d",
   "metadata": {
    "pycharm": {
     "name": "#%% md\n"
    }
   },
   "source": [
    "2.Запишіть у змінну `surname` ваше прізвище."
   ]
  },
  {
   "cell_type": "code",
   "execution_count": 3,
   "id": "c5defe1b",
   "metadata": {
    "ExecuteTime": {
     "end_time": "2023-02-03T21:19:37.024817Z",
     "start_time": "2023-02-03T21:19:37.016838Z"
    },
    "pycharm": {
     "name": "#%%\n"
    }
   },
   "outputs": [],
   "source": [
    "surname = 'Korotchenko'"
   ]
  },
  {
   "cell_type": "markdown",
   "id": "ab162f8e",
   "metadata": {
    "pycharm": {
     "name": "#%% md\n"
    }
   },
   "source": [
    "3.Сконкатенуйте імʼя та прізвище в одну фразу через пробіл. Запишіть результат у нову змінну `name_surname` та виведіть результат:"
   ]
  },
  {
   "cell_type": "code",
   "execution_count": 5,
   "id": "522d3253",
   "metadata": {
    "ExecuteTime": {
     "end_time": "2023-02-03T21:20:21.129556Z",
     "start_time": "2023-02-03T21:20:21.121579Z"
    },
    "pycharm": {
     "name": "#%%\n"
    }
   },
   "outputs": [
    {
     "data": {
      "text/plain": [
       "'Yuliia Korotchenko'"
      ]
     },
     "execution_count": 5,
     "metadata": {},
     "output_type": "execute_result"
    }
   ],
   "source": [
    "name_surname = name + \" \" + surname\n",
    "name_surname"
   ]
  },
  {
   "cell_type": "markdown",
   "id": "77e679dd",
   "metadata": {
    "pycharm": {
     "name": "#%% md\n"
    }
   },
   "source": [
    "Очікувана відповідь (тільки з вашими даними): 'Hanna Pylieva' "
   ]
  },
  {
   "cell_type": "markdown",
   "id": "e68adcf7",
   "metadata": {
    "pycharm": {
     "name": "#%% md\n"
    }
   },
   "source": [
    "4.Зробіть усі літери змінної `name_surname` заглавними використовуючи вбудовану функцію Python для рядків:"
   ]
  },
  {
   "cell_type": "code",
   "execution_count": 9,
   "id": "1047cda3",
   "metadata": {
    "ExecuteTime": {
     "end_time": "2023-02-03T21:21:19.614135Z",
     "start_time": "2023-02-03T21:21:19.597410Z"
    },
    "pycharm": {
     "name": "#%%\n"
    }
   },
   "outputs": [
    {
     "data": {
      "text/plain": [
       "'YULIIA KOROTCHENKO'"
      ]
     },
     "execution_count": 9,
     "metadata": {},
     "output_type": "execute_result"
    }
   ],
   "source": [
    "name_surname.upper()"
   ]
  },
  {
   "cell_type": "markdown",
   "id": "20a20420",
   "metadata": {
    "pycharm": {
     "name": "#%% md\n"
    }
   },
   "source": [
    "Очікувана відповідь (тільки з вашими даними): 'HANNA PYLIEVA'"
   ]
  },
  {
   "cell_type": "markdown",
   "id": "e7e1c7ae",
   "metadata": {
    "pycharm": {
     "name": "#%% md\n"
    }
   },
   "source": [
    "5.Виведіть третю літеру вашого `name_surname`. Тут уважно, треба саме третя літера. Згадайте, з якого значення починається індексування значень в Python."
   ]
  },
  {
   "cell_type": "code",
   "execution_count": 10,
   "id": "191baf85",
   "metadata": {
    "ExecuteTime": {
     "end_time": "2023-02-03T21:21:56.544752Z",
     "start_time": "2023-02-03T21:21:56.529127Z"
    },
    "pycharm": {
     "name": "#%%\n"
    }
   },
   "outputs": [
    {
     "data": {
      "text/plain": [
       "'l'"
      ]
     },
     "execution_count": 10,
     "metadata": {},
     "output_type": "execute_result"
    }
   ],
   "source": [
    "name_surname[2]"
   ]
  },
  {
   "cell_type": "markdown",
   "id": "181c489d",
   "metadata": {
    "pycharm": {
     "name": "#%% md\n"
    }
   },
   "source": [
    "Очікувана відповідь (тільки з вашими даними): 'n'"
   ]
  },
  {
   "cell_type": "markdown",
   "id": "1f3cc1a7",
   "metadata": {
    "pycharm": {
     "name": "#%% md\n"
    }
   },
   "source": [
    "6.Виведіть першу та останню літеру вашого прізвища."
   ]
  },
  {
   "cell_type": "code",
   "execution_count": 16,
   "id": "1a4ffd8b",
   "metadata": {
    "ExecuteTime": {
     "end_time": "2023-02-03T21:30:19.856087Z",
     "start_time": "2023-02-03T21:30:19.840365Z"
    },
    "pycharm": {
     "name": "#%%\n"
    }
   },
   "outputs": [
    {
     "data": {
      "text/plain": [
       "('Y', 'o')"
      ]
     },
     "execution_count": 16,
     "metadata": {},
     "output_type": "execute_result"
    }
   ],
   "source": [
    "(name_surname[0], name_surname[-1])"
   ]
  },
  {
   "cell_type": "markdown",
   "id": "df1b4a52",
   "metadata": {
    "pycharm": {
     "name": "#%% md\n"
    }
   },
   "source": [
    "Очікувана відповідь (тільки з вашими даними): ('P', 'a')"
   ]
  },
  {
   "cell_type": "markdown",
   "id": "0ad4f21f",
   "metadata": {
    "pycharm": {
     "name": "#%% md\n"
    }
   },
   "source": [
    "7.Виведіть довжину вашого прізвища."
   ]
  },
  {
   "cell_type": "code",
   "execution_count": 14,
   "id": "8aadf013",
   "metadata": {
    "ExecuteTime": {
     "end_time": "2023-02-03T21:26:58.218492Z",
     "start_time": "2023-02-03T21:26:58.205515Z"
    },
    "pycharm": {
     "name": "#%%\n"
    }
   },
   "outputs": [
    {
     "data": {
      "text/plain": [
       "11"
      ]
     },
     "execution_count": 14,
     "metadata": {},
     "output_type": "execute_result"
    }
   ],
   "source": [
    "len(surname)"
   ]
  },
  {
   "cell_type": "markdown",
   "id": "ec1a8d38",
   "metadata": {
    "pycharm": {
     "name": "#%% md\n"
    }
   },
   "source": [
    "Очікувана відповідь (тільки з вашими даними): 7"
   ]
  },
  {
   "cell_type": "markdown",
   "id": "fc4ee632",
   "metadata": {
    "pycharm": {
     "name": "#%% md\n"
    }
   },
   "source": [
    "8.Виведіть кількість літер `a` у столиці Мадагаскару `Antananarivo`. Важливо врахувати всі літери, як великі, так і маленькі."
   ]
  },
  {
   "cell_type": "code",
   "execution_count": 15,
   "id": "4c83c237",
   "metadata": {
    "ExecuteTime": {
     "end_time": "2023-02-03T21:28:42.154414Z",
     "start_time": "2023-02-03T21:28:42.135416Z"
    },
    "pycharm": {
     "name": "#%%\n"
    }
   },
   "outputs": [
    {
     "data": {
      "text/plain": [
       "4"
      ]
     },
     "execution_count": 15,
     "metadata": {},
     "output_type": "execute_result"
    }
   ],
   "source": [
    "capital = 'Antananarivo'\n",
    "capital.count('A') + capital.count('a')"
   ]
  },
  {
   "cell_type": "markdown",
   "id": "3b822954",
   "metadata": {
    "pycharm": {
     "name": "#%% md\n"
    }
   },
   "source": [
    "Очікувана відповідь: 4"
   ]
  },
  {
   "cell_type": "markdown",
   "id": "0f3e7772",
   "metadata": {
    "pycharm": {
     "name": "#%% md\n"
    }
   },
   "source": [
    "# Робота з числами та операторами"
   ]
  },
  {
   "cell_type": "markdown",
   "id": "0be48f79",
   "metadata": {
    "pycharm": {
     "name": "#%% md\n"
    }
   },
   "source": [
    "9.Створіть змінні a, b, c та d цілочисельного типу, задайде їм значення відповідно 1, 2, 3, 4, та обчисліть з допомогою Python наступний вираз:  $$ \\frac{(a+b) * c}{d} $$"
   ]
  },
  {
   "cell_type": "code",
   "execution_count": 87,
   "id": "9d7e1690",
   "metadata": {
    "ExecuteTime": {
     "end_time": "2023-02-03T23:38:10.318080Z",
     "start_time": "2023-02-03T23:38:10.301537Z"
    },
    "pycharm": {
     "name": "#%%\n"
    }
   },
   "outputs": [
    {
     "data": {
      "text/plain": [
       "2.25"
      ]
     },
     "execution_count": 87,
     "metadata": {},
     "output_type": "execute_result"
    }
   ],
   "source": [
    "a = int(1)\n",
    "b = int(2)\n",
    "c = int(3)\n",
    "d = int(4)\n",
    "\n",
    "(a + b) * c / d"
   ]
  },
  {
   "cell_type": "markdown",
   "id": "b4183f4f",
   "metadata": {
    "pycharm": {
     "name": "#%% md\n"
    }
   },
   "source": [
    "Очікувана відповідь: 2.25"
   ]
  },
  {
   "cell_type": "markdown",
   "id": "23e8d8f0",
   "metadata": {
    "pycharm": {
     "name": "#%% md\n"
    }
   },
   "source": [
    "10.На змінних, створених в попердньому завданні, обчисліть наступний вираз з допомогою Python: $$ (a^b + c^d)^2 $$"
   ]
  },
  {
   "cell_type": "code",
   "execution_count": 88,
   "id": "2b3cf9ae",
   "metadata": {
    "ExecuteTime": {
     "end_time": "2023-02-03T23:38:53.264795Z",
     "start_time": "2023-02-03T23:38:53.258811Z"
    },
    "pycharm": {
     "name": "#%%\n"
    }
   },
   "outputs": [
    {
     "data": {
      "text/plain": [
       "6724"
      ]
     },
     "execution_count": 88,
     "metadata": {},
     "output_type": "execute_result"
    }
   ],
   "source": [
    "((a ** b) + (c ** d)) ** 2"
   ]
  },
  {
   "cell_type": "markdown",
   "id": "2d5f632b",
   "metadata": {
    "pycharm": {
     "name": "#%% md\n"
    }
   },
   "source": [
    "Очікувана відповідь: 6724"
   ]
  },
  {
   "cell_type": "markdown",
   "id": "8365109c",
   "metadata": {
    "pycharm": {
     "name": "#%% md\n"
    }
   },
   "source": [
    "# Робота зі колекціями"
   ]
  },
  {
   "cell_type": "markdown",
   "id": "efd4a344",
   "metadata": {
    "pycharm": {
     "name": "#%% md\n"
    }
   },
   "source": [
    "У нас є наступний список:"
   ]
  },
  {
   "cell_type": "code",
   "execution_count": 1,
   "id": "33f9a114",
   "metadata": {
    "ExecuteTime": {
     "end_time": "2023-02-04T14:35:01.591229Z",
     "start_time": "2023-02-04T14:35:01.572811Z"
    },
    "pycharm": {
     "name": "#%%\n"
    }
   },
   "outputs": [],
   "source": [
    "l = [\n",
    "    78, 12, 14, 27, 47, 28, 51, 46, 94, 37, 42, 20, 52, 33, 11, 11, 51,\n",
    "    20, 81, 54, 86, 51, 38, 42, 49, 99, 76, 17,  9, 23, 97, 29, 29, 63,\n",
    "    40, 11, 31, 76, 15, 21, 29, 75, 35,  2, 10, 71, 17, 10, 13,  7, 44,\n",
    "    12, 19, 61, 13, 25, 62, 46, 10, 44, 75, 57, 20, 57,  3, 44, 16, 28,\n",
    "    79, 57, 62, 70, 95,  8, 47, 82, 80, 45, 36, 44, 79, 95, 73, 42, 29,\n",
    "    83, 80, 66, 56,  8, 73,  5, 99, 65, 65, 98, 17, 36, 16, 60\n",
    "]"
   ]
  },
  {
   "cell_type": "markdown",
   "id": "77d55ecf",
   "metadata": {
    "pycharm": {
     "name": "#%% md\n"
    }
   },
   "source": [
    "Будемо з ним працювати в наступних завданнях."
   ]
  },
  {
   "cell_type": "markdown",
   "id": "7a9d114b",
   "metadata": {
    "pycharm": {
     "name": "#%% md\n"
    }
   },
   "source": [
    "11.Виведіть 5 перших елементів списку"
   ]
  },
  {
   "cell_type": "code",
   "execution_count": 18,
   "id": "1a6e26e9",
   "metadata": {
    "ExecuteTime": {
     "end_time": "2023-02-03T21:37:48.151361Z",
     "start_time": "2023-02-03T21:37:48.131414Z"
    },
    "pycharm": {
     "name": "#%%\n"
    }
   },
   "outputs": [
    {
     "data": {
      "text/plain": [
       "[78, 12, 14, 27, 47]"
      ]
     },
     "execution_count": 18,
     "metadata": {},
     "output_type": "execute_result"
    }
   ],
   "source": [
    "l[:5]"
   ]
  },
  {
   "cell_type": "markdown",
   "id": "0c995ae4",
   "metadata": {
    "pycharm": {
     "name": "#%% md\n"
    }
   },
   "source": [
    "Очікувана відповідь: [78, 12, 14, 27, 47]"
   ]
  },
  {
   "cell_type": "markdown",
   "id": "58a98ef0",
   "metadata": {
    "pycharm": {
     "name": "#%% md\n"
    }
   },
   "source": [
    "12.Виведіть максимальний і мінімальний елемент у списку"
   ]
  },
  {
   "cell_type": "code",
   "execution_count": 46,
   "id": "008f459c",
   "metadata": {
    "ExecuteTime": {
     "end_time": "2023-02-03T21:53:21.834857Z",
     "start_time": "2023-02-03T21:53:21.821891Z"
    },
    "pycharm": {
     "name": "#%%\n"
    }
   },
   "outputs": [
    {
     "name": "stdout",
     "output_type": "stream",
     "text": [
      "Max element 99\n",
      "Min element 2\n"
     ]
    }
   ],
   "source": [
    "print(f'Max element {max(l)}')\n",
    "print(f'Min element {min(l)}')"
   ]
  },
  {
   "cell_type": "markdown",
   "id": "c19c1cf7",
   "metadata": {
    "pycharm": {
     "name": "#%% md\n"
    }
   },
   "source": [
    "Очікувана відповідь: \n",
    "\n",
    "```\n",
    "Max element  99\n",
    "Max element  2\n",
    "```"
   ]
  },
  {
   "cell_type": "markdown",
   "id": "eef1aae7",
   "metadata": {
    "pycharm": {
     "name": "#%% md\n"
    }
   },
   "source": [
    "13.Чи є в списку елементи, які повторюються? Перевірте це програмно і з допомогою інструкцій `if ... else` виведіть на екран відповідь \"Так, є елементи, які повторюються\", або \"Ні, всі елементи унікальні\".\n",
    "Важливо це зробити без використання імпортів будь-яких бібліотек, на чистому Python так би мовити."
   ]
  },
  {
   "cell_type": "code",
   "execution_count": 47,
   "id": "766170f3",
   "metadata": {
    "ExecuteTime": {
     "end_time": "2023-02-03T22:10:29.907337Z",
     "start_time": "2023-02-03T22:10:29.893374Z"
    },
    "pycharm": {
     "name": "#%%\n"
    }
   },
   "outputs": [
    {
     "name": "stdout",
     "output_type": "stream",
     "text": [
      "Так, є елементи, які повторюються\n"
     ]
    }
   ],
   "source": [
    "if len(l) != len(set(l)):\n",
    "    print('Так, є елементи, які повторюються')\n",
    "else:\n",
    "    print('Ні, всі елементи унікальні')"
   ]
  },
  {
   "cell_type": "markdown",
   "id": "cee3dda8",
   "metadata": {
    "pycharm": {
     "name": "#%% md\n"
    }
   },
   "source": [
    "14.Для кожного унікального елементу списку `l` знайдіть, скільки разів він повторюється та запишіть результат у змінну `n_repeats`. Виведіть `n_repeats` на екран."
   ]
  },
  {
   "cell_type": "code",
   "execution_count": 2,
   "id": "129111b7",
   "metadata": {
    "ExecuteTime": {
     "end_time": "2023-02-04T14:35:13.073458Z",
     "start_time": "2023-02-04T14:35:13.056566Z"
    },
    "collapsed": true,
    "pycharm": {
     "name": "#%%\n"
    }
   },
   "outputs": [
    {
     "data": {
      "text/plain": [
       "{78: 1,\n",
       " 12: 2,\n",
       " 14: 1,\n",
       " 27: 1,\n",
       " 47: 2,\n",
       " 28: 2,\n",
       " 51: 3,\n",
       " 46: 2,\n",
       " 94: 1,\n",
       " 37: 1,\n",
       " 42: 3,\n",
       " 20: 3,\n",
       " 52: 1,\n",
       " 33: 1,\n",
       " 11: 3,\n",
       " 81: 1,\n",
       " 54: 1,\n",
       " 86: 1,\n",
       " 38: 1,\n",
       " 49: 1,\n",
       " 99: 2,\n",
       " 76: 2,\n",
       " 17: 3,\n",
       " 9: 1,\n",
       " 23: 1,\n",
       " 97: 1,\n",
       " 29: 4,\n",
       " 63: 1,\n",
       " 40: 1,\n",
       " 31: 1,\n",
       " 15: 1,\n",
       " 21: 1,\n",
       " 75: 2,\n",
       " 35: 1,\n",
       " 2: 1,\n",
       " 10: 3,\n",
       " 71: 1,\n",
       " 13: 2,\n",
       " 7: 1,\n",
       " 44: 4,\n",
       " 19: 1,\n",
       " 61: 1,\n",
       " 25: 1,\n",
       " 62: 2,\n",
       " 57: 3,\n",
       " 3: 1,\n",
       " 16: 2,\n",
       " 79: 2,\n",
       " 70: 1,\n",
       " 95: 2,\n",
       " 8: 2,\n",
       " 82: 1,\n",
       " 80: 2,\n",
       " 45: 1,\n",
       " 36: 2,\n",
       " 73: 2,\n",
       " 83: 1,\n",
       " 66: 1,\n",
       " 56: 1,\n",
       " 5: 1,\n",
       " 65: 2,\n",
       " 98: 1,\n",
       " 60: 1}"
      ]
     },
     "execution_count": 2,
     "metadata": {},
     "output_type": "execute_result"
    }
   ],
   "source": [
    "n_repeats = {i:(l).count(i) for i in (l)}\n",
    "n_repeats"
   ]
  },
  {
   "cell_type": "markdown",
   "id": "9858eefd",
   "metadata": {
    "pycharm": {
     "name": "#%% md\n"
    }
   },
   "source": [
    "Очікуваний результат (три крапки - для скорочення, у вас буде виведений повний набір унікальних елементів): \n",
    "```\n",
    "{2: 1,\n",
    " 3: 1,\n",
    " 5: 1,\n",
    "    ...\n",
    " 97: 1,\n",
    " 98: 1,\n",
    " 99: 2}\n",
    "```"
   ]
  },
  {
   "cell_type": "markdown",
   "id": "10c98ea7",
   "metadata": {
    "pycharm": {
     "name": "#%% md\n"
    }
   },
   "source": [
    "15.Знайдіть три найменші унікальні елементи в списку `l`."
   ]
  },
  {
   "cell_type": "code",
   "execution_count": 50,
   "id": "8cabdfc7",
   "metadata": {
    "ExecuteTime": {
     "end_time": "2023-02-03T22:41:32.161664Z",
     "start_time": "2023-02-03T22:41:32.150693Z"
    },
    "pycharm": {
     "name": "#%%\n"
    }
   },
   "outputs": [
    {
     "name": "stdout",
     "output_type": "stream",
     "text": [
      "[2, 3, 5]\n"
     ]
    }
   ],
   "source": [
    "print(sorted(set(l))[:3])\n",
    "# якщо потрібно було виконати з використанням циклу, то я думала над цим, але так і не змогла вирішити як це має бути"
   ]
  },
  {
   "cell_type": "markdown",
   "id": "672d2981",
   "metadata": {
    "pycharm": {
     "name": "#%% md\n"
    }
   },
   "source": [
    "Очікувана відповідь: [2, 3, 5]\n"
   ]
  },
  {
   "cell_type": "markdown",
   "id": "f7653e42",
   "metadata": {
    "pycharm": {
     "name": "#%% md\n"
    }
   },
   "source": [
    "16.Використовуючи `n_repeats` скажіть, скільки разів повторюється кожен з трьох найменших елементів в списку."
   ]
  },
  {
   "cell_type": "code",
   "execution_count": 3,
   "id": "05ec5353",
   "metadata": {
    "ExecuteTime": {
     "end_time": "2023-02-04T14:36:27.930906Z",
     "start_time": "2023-02-04T14:36:27.915945Z"
    },
    "pycharm": {
     "name": "#%%\n"
    }
   },
   "outputs": [],
   "source": [
    "n_repeats2 = {2:n_repeats[2], 3:n_repeats[3], 5:n_repeats[5]}\n",
    "# УРА! Бо я спочатку пробувала зробити це циклом, не виходило. Якщо можна циклом, то підкажіть, будь ласка, як."
   ]
  },
  {
   "cell_type": "markdown",
   "id": "dfcfb47d",
   "metadata": {
    "pycharm": {
     "name": "#%% md\n"
    }
   },
   "source": [
    "Очікувана відповідь:  {2: 1, 3: 1, 5: 1}"
   ]
  },
  {
   "cell_type": "markdown",
   "id": "4e43e698",
   "metadata": {
    "pycharm": {
     "name": "#%% md\n"
    }
   },
   "source": [
    "17.Створіть новий список `l2`, який містить кожен 11-й елемент списку `l`. Виведіть `l2` на екран.  \n",
    "Памʼятаємо, щоб наприклад, перший 11-и1 елемент списку має індекс 10."
   ]
  },
  {
   "cell_type": "code",
   "execution_count": 51,
   "id": "5b4c4729",
   "metadata": {
    "ExecuteTime": {
     "end_time": "2023-02-03T22:52:33.701084Z",
     "start_time": "2023-02-03T22:52:33.689115Z"
    },
    "pycharm": {
     "name": "#%%\n"
    }
   },
   "outputs": [
    {
     "name": "stdout",
     "output_type": "stream",
     "text": [
      "[42, 51, 29, 2, 13, 44, 80, 66, 16]\n"
     ]
    }
   ],
   "source": [
    "l2 = l[10::11]\n",
    "print(l2)"
   ]
  },
  {
   "cell_type": "markdown",
   "id": "0c734831",
   "metadata": {
    "ExecuteTime": {
     "end_time": "2023-01-20T20:10:37.303981Z",
     "start_time": "2023-01-20T20:10:37.275706Z"
    },
    "pycharm": {
     "name": "#%%\n"
    }
   },
   "source": [
    "Очікуваний результат: `[42, 51, 29, 2, 13, 44, 80, 66, 16]`"
   ]
  },
  {
   "cell_type": "markdown",
   "id": "fca24ff1",
   "metadata": {
    "pycharm": {
     "name": "#%% md\n"
    }
   },
   "source": [
    "18.Створіть новий список `l2_squared`, де кожен елемент списку `l2` є піднесеним до степіня 2. "
   ]
  },
  {
   "cell_type": "code",
   "execution_count": 54,
   "id": "26795c16",
   "metadata": {
    "ExecuteTime": {
     "end_time": "2023-02-03T22:56:45.174105Z",
     "start_time": "2023-02-03T22:56:45.158148Z"
    },
    "pycharm": {
     "name": "#%%\n"
    }
   },
   "outputs": [
    {
     "name": "stdout",
     "output_type": "stream",
     "text": [
      "[1764, 2601, 841, 4, 169, 1936, 6400, 4356, 256]\n"
     ]
    }
   ],
   "source": [
    "l2_squared = []\n",
    "for i in (l2):\n",
    "    l2_squared.append(i ** 2)\n",
    "print(l2_squared)"
   ]
  },
  {
   "cell_type": "markdown",
   "id": "0dce0d8e",
   "metadata": {
    "pycharm": {
     "name": "#%% md\n"
    }
   },
   "source": [
    "Очікуваний результат: `[1764, 2601, 841, 4, 169, 1936, 6400, 4356, 256]`"
   ]
  },
  {
   "cell_type": "markdown",
   "id": "c267a553",
   "metadata": {
    "pycharm": {
     "name": "#%% md\n"
    }
   },
   "source": [
    "19.Знайдіть суму всіх елементів списку `l2` та виведіть її на екран."
   ]
  },
  {
   "cell_type": "code",
   "execution_count": 55,
   "id": "7f37b29f",
   "metadata": {
    "ExecuteTime": {
     "end_time": "2023-02-03T22:57:44.449968Z",
     "start_time": "2023-02-03T22:57:44.430021Z"
    },
    "pycharm": {
     "name": "#%%\n"
    }
   },
   "outputs": [
    {
     "data": {
      "text/plain": [
       "343"
      ]
     },
     "execution_count": 55,
     "metadata": {},
     "output_type": "execute_result"
    }
   ],
   "source": [
    "sum(l2)"
   ]
  },
  {
   "cell_type": "code",
   "execution_count": 67,
   "id": "ba086c64",
   "metadata": {
    "ExecuteTime": {
     "end_time": "2023-02-03T23:10:11.293585Z",
     "start_time": "2023-02-03T23:10:11.277600Z"
    },
    "collapsed": true,
    "pycharm": {
     "name": "#%% md\n"
    }
   },
   "outputs": [
    {
     "ename": "SyntaxError",
     "evalue": "invalid syntax (3367619299.py, line 1)",
     "output_type": "error",
     "traceback": [
      "\u001b[1;36m  File \u001b[1;32m\"C:\\Users\\User\\AppData\\Local\\Temp\\ipykernel_5360\\3367619299.py\"\u001b[1;36m, line \u001b[1;32m1\u001b[0m\n\u001b[1;33m    20.Знайдіть середнє значення елементів списку `l2`, збережіть результат у змінну `l2_mean` та виведіть новостворену змінну та ії тип на екран.\u001b[0m\n\u001b[1;37m              ^\u001b[0m\n\u001b[1;31mSyntaxError\u001b[0m\u001b[1;31m:\u001b[0m invalid syntax\n"
     ]
    }
   ],
   "source": [
    "20.Знайдіть середнє значення елементів списку `l2`, збережіть результат у змінну `l2_mean` та виведіть новостворену змінну та ії тип на екран."
   ]
  },
  {
   "cell_type": "code",
   "execution_count": 66,
   "id": "dc049547",
   "metadata": {
    "ExecuteTime": {
     "end_time": "2023-02-03T23:10:07.151204Z",
     "start_time": "2023-02-03T23:10:07.140232Z"
    },
    "pycharm": {
     "name": "#%%\n"
    }
   },
   "outputs": [
    {
     "name": "stdout",
     "output_type": "stream",
     "text": [
      "38\n"
     ]
    },
    {
     "data": {
      "text/plain": [
       "list"
      ]
     },
     "execution_count": 66,
     "metadata": {},
     "output_type": "execute_result"
    }
   ],
   "source": [
    "l2_mean = sum(l2) / len(l2)\n",
    "print(int(l2_mean))\n",
    "type(l2)"
   ]
  },
  {
   "cell_type": "code",
   "execution_count": null,
   "id": "789a2374",
   "metadata": {
    "pycharm": {
     "name": "#%% md\n"
    }
   },
   "outputs": [],
   "source": [
    "21.Створіть новий список `l2_gt_mean`, за наступним правилом: \"якщо цей елемент спиcку `l2` є більше за `l2_mean`, то запишемо 1, інакше 0. Виведіть новий список на екран."
   ]
  },
  {
   "cell_type": "code",
   "execution_count": 84,
   "id": "6e69be6f",
   "metadata": {
    "ExecuteTime": {
     "end_time": "2023-02-03T23:34:22.358525Z",
     "start_time": "2023-02-03T23:34:22.342070Z"
    },
    "pycharm": {
     "name": "#%%\n"
    }
   },
   "outputs": [
    {
     "data": {
      "text/plain": [
       "[1, 1, 0, 0, 0, 1, 1, 1, 0]"
      ]
     },
     "execution_count": 84,
     "metadata": {},
     "output_type": "execute_result"
    }
   ],
   "source": [
    "# починаючи з виразу чомучь не виводився результат, погуглила, що можна спочатку ставити умову тому спробувала і так працює\n",
    "l2_gt_mean = [1 if i > int((l2_mean)) else 0 for i in l2]\n",
    "l2_gt_mean"
   ]
  },
  {
   "cell_type": "markdown",
   "id": "3079f1e6",
   "metadata": {},
   "source": [
    "Очікуваний результат: `[1, 1, 0, 0, 0, 1, 1, 1, 0]`"
   ]
  },
  {
   "cell_type": "markdown",
   "id": "bb70f24a",
   "metadata": {
    "pycharm": {
     "name": "#%% md\n"
    }
   },
   "source": [
    "# Ураа!! Ви завершили перше домашнє завдання!!!  \n",
    "Аби його здати - залийте ноутбук у гітхаб репозиторій, який ви створили у перші дні навчання на курсі, та додайте посилання на файл, заповнишви форму https://forms.gle/EvxoiJiBTkuxFmhV7   \n",
    "Так тримати! 🚀🚀🚀\n"
   ]
  }
 ],
 "metadata": {
  "kernelspec": {
   "display_name": "Python 3 (ipykernel)",
   "language": "python",
   "name": "python3"
  },
  "language_info": {
   "codemirror_mode": {
    "name": "ipython",
    "version": 3
   },
   "file_extension": ".py",
   "mimetype": "text/x-python",
   "name": "python",
   "nbconvert_exporter": "python",
   "pygments_lexer": "ipython3",
   "version": "3.7.5"
  },
  "toc": {
   "base_numbering": 1,
   "nav_menu": {},
   "number_sections": true,
   "sideBar": true,
   "skip_h1_title": false,
   "title_cell": "Table of Contents",
   "title_sidebar": "Contents",
   "toc_cell": false,
   "toc_position": {},
   "toc_section_display": true,
   "toc_window_display": false
  }
 },
 "nbformat": 4,
 "nbformat_minor": 5
}
